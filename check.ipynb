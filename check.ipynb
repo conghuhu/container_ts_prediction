{
 "cells": [
  {
   "cell_type": "code",
   "execution_count": 56,
   "id": "initial_id",
   "metadata": {
    "collapsed": true,
    "ExecuteTime": {
     "end_time": "2024-01-18T03:53:52.743060800Z",
     "start_time": "2024-01-18T03:53:52.737448700Z"
    }
   },
   "outputs": [],
   "source": [
    "# -*- coding:utf-8 -*-\n",
    "import os\n",
    "import warnings\n",
    "\n",
    "import numpy as np\n",
    "import pandas as pd\n",
    "from matplotlib import pyplot as plt\n",
    "from statsmodels.graphics.tsaplots import plot_acf\n",
    "from statsmodels.graphics.tsaplots import plot_pacf\n",
    "from statsmodels.stats.diagnostic import acorr_ljungbox\n",
    "from statsmodels.tsa.stattools import adfuller as ADF"
   ]
  },
  {
   "cell_type": "code",
   "execution_count": 57,
   "outputs": [],
   "source": [
    "# 预设值\n",
    "os.environ['KMP_DUPLICATE_LIB_OK'] = 'TRUE'\n",
    "\n",
    "warnings.simplefilter('ignore')\n",
    "warnings.filterwarnings('ignore')\n",
    "\n",
    "pd.options.display.max_columns = None  # 展示所有列"
   ],
   "metadata": {
    "collapsed": false,
    "ExecuteTime": {
     "end_time": "2024-01-18T03:53:53.128358300Z",
     "start_time": "2024-01-18T03:53:53.112582500Z"
    }
   },
   "id": "3b4c90d4102c9608"
  },
  {
   "cell_type": "code",
   "execution_count": 58,
   "outputs": [],
   "source": [
    "RAW_TRAIN = './datasets/serverless/train.csv'\n",
    "\n",
    "# 加载原始数据\n",
    "train_df = pd.read_csv(RAW_TRAIN)\n",
    "train_df = train_df.sort_values(by=['QUEUE_ID', 'DOTTING_TIME']).reset_index(drop=True)"
   ],
   "metadata": {
    "collapsed": false,
    "ExecuteTime": {
     "end_time": "2024-01-18T03:53:54.337615100Z",
     "start_time": "2024-01-18T03:53:53.639229100Z"
    }
   },
   "id": "d1610d3f4f7c6163"
  },
  {
   "cell_type": "code",
   "execution_count": 61,
   "outputs": [],
   "source": [
    "def stationarityTest(data):\n",
    "    \"\"\"\n",
    "    平稳性检验\n",
    "    :return:\n",
    "    \"\"\"\n",
    "    predictnum = 5\n",
    "\n",
    "    data = data.iloc[: len(data) - predictnum]\n",
    "\n",
    "    diff = 0\n",
    "    adf = ADF(data['CWXT_DB:184:D:\\\\'])\n",
    "    while adf[1] > 0.05:\n",
    "        diff = diff + 1\n",
    "        adf = ADF(data['CWXT_DB:184:D:\\\\'].diff(diff).dropna())\n",
    "\n",
    "    print(u'原始序列经过%s阶差分后归于平稳，p值为%s' % (diff, adf[1]))\n",
    "\n",
    "\n",
    "def whitenoiseTest(data, queueId: int):\n",
    "    \"\"\"\n",
    "    白噪声检验\n",
    "    :return:\n",
    "    \"\"\"\n",
    "    res_df = acorr_ljungbox(data, lags=[1])\n",
    "    p = res_df['lb_pvalue'].values[0]\n",
    "    if p < 0.05:\n",
    "        print(u'{} 原始序列为非白噪声序列，对应的p值为：{}'.format(queueId, p))\n",
    "    else:\n",
    "        print(u'{} 原始该序列为白噪声序列，对应的p值为：{}'.format(queueId, p))\n",
    "        return True\n",
    "    res_df = acorr_ljungbox(data.diff().dropna(), lags=[10])\n",
    "    p = res_df['lb_pvalue'].values[0]\n",
    "    if p < 0.05:\n",
    "        print(u'{} 一阶差分序列为非白噪声序列，对应的p值为：{}'.format(queueId, p))\n",
    "    else:\n",
    "        print(u'{} 一阶差分该序列为白噪声序列，对应的p值为：{}'.format(queueId, p))\n",
    "    return False\n"
   ],
   "metadata": {
    "collapsed": false,
    "ExecuteTime": {
     "end_time": "2024-01-18T04:02:19.886457400Z",
     "start_time": "2024-01-18T04:02:19.871545300Z"
    }
   },
   "id": "b6b0fcf699e24fec"
  },
  {
   "cell_type": "code",
   "execution_count": null,
   "outputs": [],
   "source": [
    "\"\"\"\n",
    "自相关函数 (ACF)。延迟为 k 时，这是相距 k 个时间间隔的序列值之间的相关性。\n",
    "偏自相关函数 (PACF)。延迟为 k 时，这是相距 k 个时间间隔的序列值之间的相关性，同时考虑了间隔之间的值。\n",
    "截尾与拖尾是什么鬼？\n",
    "截尾是指时间序列的自相关函数（ACF）或偏自相关函数（PACF）在某阶后均为0的性质（比如AR的PACF）；拖尾是ACF或PACF并不在某阶后均为0的性质（比如AR的ACF）。\n",
    "\n",
    "截尾：在大于某个常数k后快速趋于0为k阶截尾\n",
    "拖尾：始终有非零取值，不会在k大于某个常数后就恒等于零(或在0附近随机波动)\n",
    "\"\"\"\n",
    "queueIds_df = pd.read_csv('./datasets/serverless/q_ids.csv')\n",
    "queueIds: np.ndarray = queueIds_df['QUEUE_ID'].values\n",
    "for i, queueId in np.ndenumerate(queueIds):\n",
    "    # i是只有一个下标index的tuple，访问时直接i[0]\n",
    "    raw = queueIds_df.iloc[i[0]]\n",
    "    start = raw['ranges_start']\n",
    "    end = raw['ranges_end']\n",
    "    queue_df = train_df[train_df.QUEUE_ID == queueId]\n",
    "    cpu_s = queue_df['CPU_USAGE']\n",
    "    plot_acf(cpu_s, title='Autocorrelation ID_{}'.format(queueId), lags=100)\n",
    "    plt.show()"
   ],
   "metadata": {
    "collapsed": false
   },
   "id": "c1523b9e91bce538"
  },
  {
   "cell_type": "code",
   "execution_count": null,
   "outputs": [],
   "source": [
    "queueIds_df = pd.read_csv('./datasets/serverless/q_ids.csv')\n",
    "queueIds: np.ndarray = queueIds_df['QUEUE_ID'].values\n",
    "for i, queueId in np.ndenumerate(queueIds):\n",
    "    # i是只有一个下标index的tuple，访问时直接i[0]\n",
    "    raw = queueIds_df.iloc[i[0]]\n",
    "    start = raw['ranges_start']\n",
    "    end = raw['ranges_end']\n",
    "    queue_df = train_df[train_df.QUEUE_ID == queueId]\n",
    "    cpu_s = queue_df['CPU_USAGE']\n",
    "    plot_pacf(cpu_s, title='Autocorrelation ID_{}'.format(queueId), lags=100)\n",
    "    plt.show()"
   ],
   "metadata": {
    "collapsed": false
   },
   "id": "c034f4b4dd794e4e"
  },
  {
   "cell_type": "code",
   "execution_count": 62,
   "outputs": [
    {
     "name": "stdout",
     "output_type": "stream",
     "text": [
      "========================\n",
      "2 原始序列为非白噪声序列，对应的p值为：0.0\n",
      "2 一阶差分序列为非白噪声序列，对应的p值为：0.0\n",
      "========================\n",
      "3 原始序列为非白噪声序列，对应的p值为：2.1874005862757105e-16\n",
      "3 一阶差分序列为非白噪声序列，对应的p值为：0.0\n",
      "========================\n",
      "4 原始序列为非白噪声序列，对应的p值为：6.545771145197786e-32\n",
      "4 一阶差分序列为非白噪声序列，对应的p值为：0.0\n",
      "========================\n",
      "27 原始序列为非白噪声序列，对应的p值为：1.3025571680381248e-45\n",
      "27 一阶差分序列为非白噪声序列，对应的p值为：0.0\n",
      "========================\n",
      "36 原始序列为非白噪声序列，对应的p值为：0.0\n",
      "36 一阶差分序列为非白噪声序列，对应的p值为：4.711706031377924e-89\n",
      "========================\n",
      "233 原始序列为非白噪声序列，对应的p值为：0.0\n",
      "233 一阶差分序列为非白噪声序列，对应的p值为：8.37636394300812e-53\n",
      "========================\n",
      "287 原始序列为非白噪声序列，对应的p值为：0.0\n",
      "287 一阶差分序列为非白噪声序列，对应的p值为：1.685496747387129e-92\n",
      "========================\n",
      "291 原始序列为非白噪声序列，对应的p值为：0.0\n",
      "291 一阶差分序列为非白噪声序列，对应的p值为：0.0007805292195434946\n",
      "========================\n",
      "293 原始序列为非白噪声序列，对应的p值为：0.0\n",
      "293 一阶差分序列为非白噪声序列，对应的p值为：1.2958077827459848e-09\n",
      "========================\n",
      "21825 原始序列为非白噪声序列，对应的p值为：9.897844206305218e-116\n",
      "21825 一阶差分序列为非白噪声序列，对应的p值为：0.0\n",
      "========================\n",
      "82695 原始序列为非白噪声序列，对应的p值为：5.109442090487695e-44\n",
      "82695 一阶差分序列为非白噪声序列，对应的p值为：0.0\n",
      "========================\n",
      "82697 原始序列为非白噪声序列，对应的p值为：6.395696574683256e-35\n",
      "82697 一阶差分序列为非白噪声序列，对应的p值为：0.0\n",
      "========================\n",
      "82929 原始序列为非白噪声序列，对应的p值为：2.41930526958731e-286\n",
      "82929 一阶差分序列为非白噪声序列，对应的p值为：5.346188614641333e-289\n",
      "========================\n",
      "83109 原始序列为非白噪声序列，对应的p值为：6.876318573293032e-09\n",
      "83109 一阶差分序列为非白噪声序列，对应的p值为：0.0\n",
      "========================\n",
      "84387 原始序列为非白噪声序列，对应的p值为：0.0\n",
      "84387 一阶差分序列为非白噪声序列，对应的p值为：0.0\n",
      "========================\n",
      "84907 原始序列为非白噪声序列，对应的p值为：1.2058414937742076e-12\n",
      "84907 一阶差分序列为非白噪声序列，对应的p值为：0.0\n",
      "========================\n",
      "85101 原始序列为非白噪声序列，对应的p值为：0.0\n",
      "85101 一阶差分序列为非白噪声序列，对应的p值为：7.309146734498425e-271\n",
      "========================\n",
      "85153 原始序列为非白噪声序列，对应的p值为：1.3648303028000271e-168\n",
      "85153 一阶差分序列为非白噪声序列，对应的p值为：0.0\n",
      "========================\n",
      "85265 原始序列为非白噪声序列，对应的p值为：1.3114199407731802e-206\n",
      "85265 一阶差分序列为非白噪声序列，对应的p值为：0.0\n",
      "========================\n",
      "85267 原始序列为非白噪声序列，对应的p值为：0.0\n",
      "85267 一阶差分序列为非白噪声序列，对应的p值为：0.0\n",
      "========================\n",
      "85619 原始序列为非白噪声序列，对应的p值为：0.0\n",
      "85619 一阶差分序列为非白噪声序列，对应的p值为：0.0\n",
      "========================\n",
      "85693 原始序列为非白噪声序列，对应的p值为：0.0\n",
      "85693 一阶差分序列为非白噪声序列，对应的p值为：0.0\n",
      "========================\n",
      "85731 原始序列为非白噪声序列，对应的p值为：4.809099602482323e-26\n",
      "85731 一阶差分序列为非白噪声序列，对应的p值为：0.0\n",
      "========================\n",
      "85781 原始序列为非白噪声序列，对应的p值为：6.351367094408593e-12\n",
      "85781 一阶差分序列为非白噪声序列，对应的p值为：3.373509632675672e-34\n",
      "========================\n",
      "85915 原始序列为非白噪声序列，对应的p值为：2.9034567844367846e-201\n",
      "85915 一阶差分序列为非白噪声序列，对应的p值为：3.631106489685008e-165\n",
      "========================\n",
      "85933 原始序列为非白噪声序列，对应的p值为：0.0\n",
      "85933 一阶差分序列为非白噪声序列，对应的p值为：1.3363059491762852e-206\n",
      "========================\n",
      "85977 原始序列为非白噪声序列，对应的p值为：0.0\n",
      "85977 一阶差分序列为非白噪声序列，对应的p值为：3.6737446338014134e-224\n",
      "========================\n",
      "86085 原始序列为非白噪声序列，对应的p值为：3.259351539660563e-16\n",
      "86085 一阶差分序列为非白噪声序列，对应的p值为：3.404200968209169e-280\n",
      "========================\n",
      "86865 原始序列为非白噪声序列，对应的p值为：9.21341197269892e-87\n",
      "86865 一阶差分序列为非白噪声序列，对应的p值为：8.022552086234253e-149\n",
      "========================\n",
      "86867 原始序列为非白噪声序列，对应的p值为：0.0\n",
      "86867 一阶差分序列为非白噪声序列，对应的p值为：2.822622795286389e-66\n",
      "========================\n",
      "87139 原始序列为非白噪声序列，对应的p值为：3.506531684118353e-268\n",
      "87139 一阶差分序列为非白噪声序列，对应的p值为：2.100135669607273e-37\n",
      "[]\n"
     ]
    }
   ],
   "source": [
    "queueIds_df = pd.read_csv('./datasets/serverless/q_ids.csv')\n",
    "queueIds: np.ndarray = queueIds_df['QUEUE_ID'].values\n",
    "\n",
    "error_queueIds = []\n",
    "for i, queueId in np.ndenumerate(queueIds):\n",
    "    # i是只有一个下标index的tuple，访问时直接i[0]\n",
    "    raw = queueIds_df.iloc[i[0]]\n",
    "    start = raw['ranges_start']\n",
    "    end = raw['ranges_end']\n",
    "    queue_df = train_df[train_df.QUEUE_ID == queueId]\n",
    "    cpu_s = queue_df['CPU_USAGE']\n",
    "    print(\"========================\")\n",
    "    isWhite = whitenoiseTest(cpu_s, queueId)\n",
    "    if isWhite:\n",
    "        error_queueIds.append(queueId)\n",
    "\n",
    "print(error_queueIds)"
   ],
   "metadata": {
    "collapsed": false,
    "ExecuteTime": {
     "end_time": "2024-01-18T04:02:37.398892100Z",
     "start_time": "2024-01-18T04:02:22.698210700Z"
    }
   },
   "id": "e17cfa468c2a4eb7"
  },
  {
   "cell_type": "code",
   "execution_count": null,
   "outputs": [],
   "source": [],
   "metadata": {
    "collapsed": false
   },
   "id": "54fc8433e8c5e7ad"
  }
 ],
 "metadata": {
  "kernelspec": {
   "display_name": "Python 3",
   "language": "python",
   "name": "python3"
  },
  "language_info": {
   "codemirror_mode": {
    "name": "ipython",
    "version": 2
   },
   "file_extension": ".py",
   "mimetype": "text/x-python",
   "name": "python",
   "nbconvert_exporter": "python",
   "pygments_lexer": "ipython2",
   "version": "2.7.6"
  }
 },
 "nbformat": 4,
 "nbformat_minor": 5
}
