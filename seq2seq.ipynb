{
 "cells": [
  {
   "cell_type": "code",
   "execution_count": 30,
   "id": "initial_id",
   "metadata": {
    "collapsed": true,
    "ExecuteTime": {
     "end_time": "2023-12-28T13:45:01.299191200Z",
     "start_time": "2023-12-28T13:45:01.283680Z"
    }
   },
   "outputs": [],
   "source": [
    "import gc\n",
    "\n",
    "import matplotlib.pyplot as plt\n",
    "import numpy as np\n",
    "import pandas as pd\n",
    "import torch\n",
    "import torch.nn as nn\n",
    "from sklearn.preprocessing import MinMaxScaler\n",
    "from torch.utils.data import TensorDataset\n",
    "from tqdm import tqdm\n",
    "\n",
    "from models.seq2seq.seq2seq_net import Seq2Seq"
   ]
  },
  {
   "cell_type": "code",
   "execution_count": 31,
   "outputs": [
    {
     "name": "stdout",
     "output_type": "stream",
     "text": [
      "use cuda train\n"
     ]
    }
   ],
   "source": [
    "class Config:\n",
    "    data_path = './datasets/serverless/cached/queue_id_{}.csv'.format(36)\n",
    "    # data_path = './datasets/serverless/data.csv'\n",
    "    timestep = 12  # 时间步长，就是利用多少时间窗口\n",
    "    batch_size = 32  # 批次大小\n",
    "    feature_size = 7  # 每个步长对应的特征数量\n",
    "    hidden_size = 256  # 隐层大小\n",
    "    output_size = 6  # 由于是多输出任务，最终输出层大小为6，预测未来6个时间段的负载数据\n",
    "    num_layers = 2  # lstm的层数\n",
    "    epochs = 10  # 迭代轮数\n",
    "    best_loss = 0.010  # 记录损失\n",
    "    learning_rate = 0.0003  # 学习率\n",
    "    model_name = 'seq2seq'  # 模型名称\n",
    "    scale_type = 'standard'\n",
    "    save_path = './checkpoints/{}.pth'.format(model_name)  # 最优模型保存路径\n",
    "\n",
    "\n",
    "config = Config()\n",
    "\n",
    "device = torch.device('cuda' if torch.cuda.is_available() else 'cpu')\n",
    "\n",
    "print(\"use {} train\".format(device))"
   ],
   "metadata": {
    "collapsed": false,
    "ExecuteTime": {
     "end_time": "2023-12-28T13:45:01.840502300Z",
     "start_time": "2023-12-28T13:45:01.790262800Z"
    }
   },
   "id": "985a879bcc44d74f"
  },
  {
   "cell_type": "code",
   "execution_count": 32,
   "outputs": [
    {
     "name": "stdout",
     "output_type": "stream",
     "text": [
      "(3242, 7)\n",
      "               CPU_USAGE  QUEUE_ID  CU  QUEUE_TYPE  MEM_USAGE  LJOB  RJOB\n",
      "timestamp                                                                \n",
      "1591268040000         32        36  16           0         17     0     0\n",
      "1591268340000          3        36  16           0         18     0     0\n",
      "1591268640000          5        36  16           0         18     0     0\n",
      "1591268940000          2        36  16           0         18     0     0\n",
      "1591269240000         15        36  16           0         19     0     0\n",
      "<class 'pandas.core.frame.DataFrame'>\n",
      "Index: 3242 entries, 1591268040000 to 1592265540000\n",
      "Data columns (total 7 columns):\n",
      " #   Column      Non-Null Count  Dtype\n",
      "---  ------      --------------  -----\n",
      " 0   CPU_USAGE   3242 non-null   int64\n",
      " 1   QUEUE_ID    3242 non-null   int64\n",
      " 2   CU          3242 non-null   int64\n",
      " 3   QUEUE_TYPE  3242 non-null   int64\n",
      " 4   MEM_USAGE   3242 non-null   int64\n",
      " 5   LJOB        3242 non-null   int64\n",
      " 6   RJOB        3242 non-null   int64\n",
      "dtypes: int64(7)\n",
      "memory usage: 202.6 KB\n",
      "None\n",
      "         CPU_USAGE  QUEUE_ID      CU  QUEUE_TYPE    MEM_USAGE         LJOB  \\\n",
      "count  3242.000000    3242.0  3242.0      3242.0  3242.000000  3242.000000   \n",
      "mean     20.508945      36.0    16.0         0.0    87.902529     0.006169   \n",
      "std      16.607566       0.0     0.0         0.0    14.438319     0.085832   \n",
      "min       1.000000      36.0    16.0         0.0    17.000000     0.000000   \n",
      "25%       5.000000      36.0    16.0         0.0    92.000000     0.000000   \n",
      "50%      17.000000      36.0    16.0         0.0    92.000000     0.000000   \n",
      "75%      31.000000      36.0    16.0         0.0    93.000000     0.000000   \n",
      "max      78.000000      36.0    16.0         0.0    96.000000     2.000000   \n",
      "\n",
      "              RJOB  \n",
      "count  3242.000000  \n",
      "mean      0.027761  \n",
      "std       0.216207  \n",
      "min       0.000000  \n",
      "25%       0.000000  \n",
      "50%       0.000000  \n",
      "75%       0.000000  \n",
      "max       5.000000  \n",
      "               CPU_USAGE  QUEUE_ID  CU  QUEUE_TYPE  MEM_USAGE  LJOB  RJOB\n",
      "timestamp                                                                \n",
      "1591268040000         32        36  16           0         17     0     0\n",
      "1591268340000          3        36  16           0         18     0     0\n",
      "1591268640000          5        36  16           0         18     0     0\n",
      "1591268940000          2        36  16           0         18     0     0\n",
      "1591269240000         15        36  16           0         19     0     0\n",
      "...                  ...       ...  ..         ...        ...   ...   ...\n",
      "1592264340000          4        36  16           0         91     0     0\n",
      "1592264640000          3        36  16           0         92     0     0\n",
      "1592264940000          2        36  16           0         92     0     0\n",
      "1592265240000          2        36  16           0         92     0     0\n",
      "1592265540000          3        36  16           0         92     0     0\n",
      "\n",
      "[3242 rows x 7 columns]\n"
     ]
    }
   ],
   "source": [
    "# 1.加载时间序列数据\n",
    "df = pd.read_csv(config.data_path, index_col=0)\n",
    "\n",
    "# 填充空值\n",
    "print(df.shape)\n",
    "print(df.head())\n",
    "print(df.info())\n",
    "print(df.describe())\n",
    "\n",
    "# 七个特征\n",
    "print(df)"
   ],
   "metadata": {
    "collapsed": false,
    "ExecuteTime": {
     "end_time": "2023-12-28T13:45:02.463901400Z",
     "start_time": "2023-12-28T13:45:02.408277600Z"
    }
   },
   "id": "eeab2d66c3bd6ac3"
  },
  {
   "cell_type": "code",
   "execution_count": 33,
   "outputs": [
    {
     "data": {
      "text/plain": "array([[ 0.6920236 ],\n       [-1.05443785],\n       [-0.93399223],\n       ...,\n       [-1.11466066],\n       [-1.11466066],\n       [-1.05443785]])"
     },
     "execution_count": 33,
     "metadata": {},
     "output_type": "execute_result"
    }
   ],
   "source": [
    "from sklearn.preprocessing import StandardScaler\n",
    "\n",
    "assert config.scale_type in ['standard', 'minmax']\n",
    "# 2.将数据进行标准化\n",
    "if config.scale_type == 'standard':\n",
    "    scaler = StandardScaler()\n",
    "    scaler_model = StandardScaler()\n",
    "elif config.scale_type == 'minmax':\n",
    "    scaler = MinMaxScaler()\n",
    "    scaler_model = MinMaxScaler()\n",
    "data: np.ndarray = scaler_model.fit_transform(np.array(df))\n",
    "# only display\n",
    "scaler.fit_transform(np.array(df['CPU_USAGE']).reshape(-1, 1))"
   ],
   "metadata": {
    "collapsed": false,
    "ExecuteTime": {
     "end_time": "2023-12-28T13:45:02.972907700Z",
     "start_time": "2023-12-28T13:45:02.958394Z"
    }
   },
   "id": "fdc3d93e4c5fde91"
  },
  {
   "cell_type": "code",
   "execution_count": 34,
   "outputs": [
    {
     "name": "stdout",
     "output_type": "stream",
     "text": [
      "(3242, 7) 12 7 6\n",
      "(3225, 12, 7) (3225, 6)\n",
      "(2580, 12, 7)\n",
      "(2580, 6)\n",
      "(645, 12, 7)\n",
      "(645, 6)\n"
     ]
    }
   ],
   "source": [
    "# 形成训练数据，例如12345789 12345-67 23456-78\n",
    "def split_data(data: np.ndarray, timestep, feature_size, output_size):\n",
    "    print(data.shape, timestep, feature_size, output_size)\n",
    "    dataX = []  # 保存X\n",
    "    dataY = []  # 保存Y\n",
    "\n",
    "    # 将整个窗口的数据保存到X中，将未来一天保存到Y中\n",
    "    for index in range(len(data) - timestep - output_size + 1):\n",
    "        dataX.append(data[index: index + timestep])\n",
    "        dataY.append(data[index + timestep: index + timestep + output_size][:, 0].tolist())\n",
    "\n",
    "    dataX = np.array(dataX)\n",
    "    dataY = np.array(dataY)\n",
    "    print(dataX.shape, dataY.shape)\n",
    "\n",
    "    # 获取训练集大小\n",
    "    train_size = int(np.round(0.8 * dataX.shape[0]))\n",
    "\n",
    "    # 划分训练集、测试集\n",
    "    x_train = dataX[: train_size, :].reshape(-1, timestep, feature_size)\n",
    "    y_train = dataY[: train_size].reshape(-1, output_size)\n",
    "\n",
    "    x_test = dataX[train_size:, :].reshape(-1, timestep, feature_size)\n",
    "    y_test = dataY[train_size:].reshape(-1, output_size)\n",
    "\n",
    "    return [x_train, y_train, x_test, y_test]\n",
    "\n",
    "\n",
    "# 3.获取训练数据   \n",
    "# x_train: train_len,timestep,feature_size   y_train: train_len,output_size\n",
    "# x_test: test_len,timestep,feature_size   y_test: test_len,output_size\n",
    "x_train, y_train, x_test, y_test = split_data(data, config.timestep, config.feature_size, config.output_size)\n",
    "\n",
    "print(x_train.shape)\n",
    "print(y_train.shape)\n",
    "print(x_test.shape)\n",
    "print(y_test.shape)"
   ],
   "metadata": {
    "collapsed": false,
    "ExecuteTime": {
     "end_time": "2023-12-28T13:45:04.745420500Z",
     "start_time": "2023-12-28T13:45:04.728826100Z"
    }
   },
   "id": "98ef6290b16525b2"
  },
  {
   "cell_type": "code",
   "execution_count": 35,
   "outputs": [],
   "source": [
    "# 4.将数据转为tensor\n",
    "x_train_tensor = torch.from_numpy(x_train).to(torch.float32)\n",
    "y_train_tensor = torch.from_numpy(y_train).to(torch.float32)\n",
    "x_test_tensor = torch.from_numpy(x_test).to(torch.float32)\n",
    "y_test_tensor = torch.from_numpy(y_test).to(torch.float32)\n",
    "\n",
    "# 5.形成训练数据集\n",
    "train_data = TensorDataset(x_train_tensor, y_train_tensor)\n",
    "test_data = TensorDataset(x_test_tensor, y_test_tensor)\n",
    "\n",
    "# 6.将数据加载成迭代器\n",
    "train_loader = torch.utils.data.DataLoader(train_data,\n",
    "                                           config.batch_size,\n",
    "                                           False)\n",
    "\n",
    "test_loader = torch.utils.data.DataLoader(test_data,\n",
    "                                          config.batch_size,\n",
    "                                          False)"
   ],
   "metadata": {
    "collapsed": false,
    "ExecuteTime": {
     "end_time": "2023-12-28T13:45:05.791330300Z",
     "start_time": "2023-12-28T13:45:05.777331400Z"
    }
   },
   "id": "c8e33e803005f29b"
  },
  {
   "cell_type": "code",
   "execution_count": 36,
   "outputs": [],
   "source": [
    "model = Seq2Seq(config.feature_size, config.hidden_size, config.num_layers, config.output_size)\n",
    "model = model.to(device)\n",
    "loss_function = nn.MSELoss()  # 定义损失函数\n",
    "loss_function = loss_function.to(device)\n",
    "optimizer = torch.optim.AdamW(model.parameters(), lr=config.learning_rate)  # 定义优化器"
   ],
   "metadata": {
    "collapsed": false,
    "ExecuteTime": {
     "end_time": "2023-12-28T13:45:06.841209200Z",
     "start_time": "2023-12-28T13:45:06.788317400Z"
    }
   },
   "id": "6cd1528b360c75b4"
  },
  {
   "cell_type": "code",
   "execution_count": 37,
   "outputs": [
    {
     "name": "stderr",
     "output_type": "stream",
     "text": [
      "  0%|          | 0/81 [00:00<?, ?it/s]\n",
      "  0%|          | 0/81 [00:00<?, ?it/s]\u001B[A\n",
      "  1%|          | 1/81 [00:00<00:08,  9.08it/s]\u001B[A\n",
      "  4%|▎         | 3/81 [00:00<00:07, 10.02it/s]\u001B[A\n",
      " 21%|██        | 17/81 [00:00<00:01, 54.18it/s]\u001B[A\n",
      " 38%|███▊      | 31/81 [00:00<00:00, 81.74it/s]\u001B[A\n",
      " 57%|█████▋    | 46/81 [00:00<00:00, 101.28it/s]\u001B[A\n",
      " 74%|███████▍  | 60/81 [00:00<00:00, 111.84it/s]\u001B[A\n",
      "100%|██████████| 81/81 [00:00<00:00, 92.44it/s] \u001B[A\n",
      "\n",
      "100%|██████████| 21/21 [00:00<00:00, 423.92it/s]\n"
     ]
    },
    {
     "name": "stdout",
     "output_type": "stream",
     "text": [
      "Epoch: 1, Steps: 81 | Train Loss: 0.9902519 Test Loss: 0.4224534\n"
     ]
    },
    {
     "name": "stderr",
     "output_type": "stream",
     "text": [
      "\n",
      "train epoch[1/10] loss:0.349:   0%|          | 0/81 [00:01<?, ?it/s]\n",
      "100%|██████████| 81/81 [00:00<00:00, 140.72it/s]\n",
      "100%|██████████| 21/21 [00:00<00:00, 443.79it/s]\n"
     ]
    },
    {
     "name": "stdout",
     "output_type": "stream",
     "text": [
      "Epoch: 2, Steps: 81 | Train Loss: 0.4763736 Test Loss: 0.3365253\n"
     ]
    },
    {
     "name": "stderr",
     "output_type": "stream",
     "text": [
      "train epoch[2/10] loss:0.333:   0%|          | 0/81 [00:00<?, ?it/s]\n",
      "\n",
      "  0%|          | 0/81 [00:00<?, ?it/s]\u001B[A\n",
      " 19%|█▊        | 15/81 [00:00<00:00, 144.76it/s]\u001B[A\n",
      " 37%|███▋      | 30/81 [00:00<00:00, 142.85it/s]\u001B[A\n",
      " 56%|█████▌    | 45/81 [00:00<00:00, 143.72it/s]\u001B[A\n",
      " 75%|███████▌  | 61/81 [00:00<00:00, 147.11it/s]\u001B[A\n",
      "100%|██████████| 81/81 [00:00<00:00, 144.38it/s]\u001B[A\n",
      "\n",
      "100%|██████████| 21/21 [00:00<00:00, 410.34it/s]\n"
     ]
    },
    {
     "name": "stdout",
     "output_type": "stream",
     "text": [
      "Epoch: 3, Steps: 81 | Train Loss: 0.4542907 Test Loss: 0.3201757\n"
     ]
    },
    {
     "name": "stderr",
     "output_type": "stream",
     "text": [
      "\n",
      "train epoch[3/10] loss:0.312:   0%|          | 0/81 [00:00<?, ?it/s]\n",
      "100%|██████████| 81/81 [00:00<00:00, 147.49it/s]\n",
      "100%|██████████| 21/21 [00:00<00:00, 548.05it/s]\n"
     ]
    },
    {
     "name": "stdout",
     "output_type": "stream",
     "text": [
      "Epoch: 4, Steps: 81 | Train Loss: 0.4046787 Test Loss: 0.2577735\n"
     ]
    },
    {
     "name": "stderr",
     "output_type": "stream",
     "text": [
      "train epoch[4/10] loss:0.273:   0%|          | 0/81 [00:00<?, ?it/s]\n",
      "\n",
      "  0%|          | 0/81 [00:00<?, ?it/s]\u001B[A\n",
      " 19%|█▊        | 15/81 [00:00<00:00, 145.81it/s]\u001B[A\n",
      " 37%|███▋      | 30/81 [00:00<00:00, 147.05it/s]\u001B[A\n",
      " 56%|█████▌    | 45/81 [00:00<00:00, 143.36it/s]\u001B[A\n",
      " 74%|███████▍  | 60/81 [00:00<00:00, 143.00it/s]\u001B[A\n",
      "100%|██████████| 81/81 [00:00<00:00, 144.02it/s]\u001B[A\n",
      "\n",
      "100%|██████████| 21/21 [00:00<00:00, 449.21it/s]\n"
     ]
    },
    {
     "name": "stdout",
     "output_type": "stream",
     "text": [
      "Epoch: 5, Steps: 81 | Train Loss: 0.3901834 Test Loss: 0.2479017\n"
     ]
    },
    {
     "name": "stderr",
     "output_type": "stream",
     "text": [
      "\n",
      "train epoch[5/10] loss:0.262:   0%|          | 0/81 [00:00<?, ?it/s]\n",
      "100%|██████████| 81/81 [00:00<00:00, 144.89it/s]\n",
      "100%|██████████| 21/21 [00:00<00:00, 496.30it/s]\n"
     ]
    },
    {
     "name": "stdout",
     "output_type": "stream",
     "text": [
      "Epoch: 6, Steps: 81 | Train Loss: 0.3859745 Test Loss: 0.2445447\n"
     ]
    },
    {
     "name": "stderr",
     "output_type": "stream",
     "text": [
      "train epoch[6/10] loss:0.264:   0%|          | 0/81 [00:00<?, ?it/s]\n",
      "\n",
      "  0%|          | 0/81 [00:00<?, ?it/s]\u001B[A\n",
      " 19%|█▊        | 15/81 [00:00<00:00, 146.69it/s]\u001B[A\n",
      " 37%|███▋      | 30/81 [00:00<00:00, 148.34it/s]\u001B[A\n",
      " 56%|█████▌    | 45/81 [00:00<00:00, 145.27it/s]\u001B[A\n",
      " 74%|███████▍  | 60/81 [00:00<00:00, 144.15it/s]\u001B[A\n",
      "100%|██████████| 81/81 [00:00<00:00, 141.74it/s]\u001B[A\n",
      "\n",
      "100%|██████████| 21/21 [00:00<00:00, 440.98it/s]\n"
     ]
    },
    {
     "name": "stdout",
     "output_type": "stream",
     "text": [
      "Epoch: 7, Steps: 81 | Train Loss: 0.3873421 Test Loss: 0.2511793\n"
     ]
    },
    {
     "name": "stderr",
     "output_type": "stream",
     "text": [
      "\n",
      "train epoch[7/10] loss:0.261:   0%|          | 0/81 [00:00<?, ?it/s]\n",
      "100%|██████████| 81/81 [00:00<00:00, 148.80it/s]\n",
      "100%|██████████| 21/21 [00:00<00:00, 455.90it/s]\n"
     ]
    },
    {
     "name": "stdout",
     "output_type": "stream",
     "text": [
      "Epoch: 8, Steps: 81 | Train Loss: 0.3807675 Test Loss: 0.2597706\n"
     ]
    },
    {
     "name": "stderr",
     "output_type": "stream",
     "text": [
      "train epoch[8/10] loss:0.258:   0%|          | 0/81 [00:00<?, ?it/s]\n",
      "\n",
      "  0%|          | 0/81 [00:00<?, ?it/s]\u001B[A\n",
      " 17%|█▋        | 14/81 [00:00<00:00, 138.93it/s]\u001B[A\n",
      " 35%|███▍      | 28/81 [00:00<00:00, 139.07it/s]\u001B[A\n",
      " 52%|█████▏    | 42/81 [00:00<00:00, 138.10it/s]\u001B[A\n",
      " 70%|███████   | 57/81 [00:00<00:00, 139.68it/s]\u001B[A\n",
      "100%|██████████| 81/81 [00:00<00:00, 139.24it/s]\u001B[A\n",
      "\n",
      "100%|██████████| 21/21 [00:00<00:00, 507.07it/s]\n"
     ]
    },
    {
     "name": "stdout",
     "output_type": "stream",
     "text": [
      "Epoch: 9, Steps: 81 | Train Loss: 0.3888808 Test Loss: 0.2621775\n"
     ]
    },
    {
     "name": "stderr",
     "output_type": "stream",
     "text": [
      "\n",
      "train epoch[9/10] loss:0.247:   0%|          | 0/81 [00:00<?, ?it/s]\n",
      "100%|██████████| 81/81 [00:00<00:00, 142.51it/s]\n",
      "100%|██████████| 21/21 [00:00<00:00, 463.68it/s]"
     ]
    },
    {
     "name": "stdout",
     "output_type": "stream",
     "text": [
      "Epoch: 10, Steps: 81 | Train Loss: 0.3837484 Test Loss: 0.2669602\n",
      "Finished Training\n"
     ]
    },
    {
     "name": "stderr",
     "output_type": "stream",
     "text": [
      "\n"
     ]
    }
   ],
   "source": [
    "# 8.模型训练\n",
    "for epoch in range(config.epochs):\n",
    "    model.train()\n",
    "    train_loss = []\n",
    "    train_steps = len(train_loader)\n",
    "    train_bar = tqdm(train_loader)  # 形成进度条\n",
    "    for data in tqdm(train_loader):\n",
    "        x_train, y_train = data  # 解包迭代器中的X和Y\n",
    "        x_train: torch.Tensor = x_train.to(device)\n",
    "        y_train: torch.Tensor = y_train.to(device)\n",
    "        optimizer.zero_grad()\n",
    "        y_train_pred = model(x_train)\n",
    "        loss = loss_function(y_train_pred, y_train)\n",
    "        train_loss.append(loss.item())\n",
    "\n",
    "        loss.backward()\n",
    "        optimizer.step()\n",
    "        train_bar.desc = \"train epoch[{}/{}] loss:{:.3f}\".format(epoch + 1,\n",
    "                                                                 config.epochs,\n",
    "                                                                 loss)\n",
    "\n",
    "    # 模型验证\n",
    "    model.eval()\n",
    "    test_loss = 0\n",
    "    with torch.no_grad():\n",
    "        test_bar = tqdm(test_loader)\n",
    "        for data in test_bar:\n",
    "            x_test, y_test = data\n",
    "            x_test = x_test.to(device)\n",
    "            y_test = y_test.to(device)\n",
    "            # x_test: [batchSize, timestep, featureSize]\n",
    "            # y_test_pred: [batchSize, outputSize]\n",
    "            y_test_pred = model(x_test)\n",
    "            test_loss = loss_function(y_test_pred, y_test)\n",
    "\n",
    "    train_loss = np.average(train_loss)\n",
    "    print(\"Epoch: {0}, Steps: {1} | Train Loss: {2:.7f} Test Loss: {3:.7f}\".format(\n",
    "        epoch + 1, train_steps, train_loss, test_loss))\n",
    "\n",
    "    if test_loss <= config.best_loss:\n",
    "        config.best_loss = test_loss\n",
    "        print('best loss is {}, saving model'.format(config.best_loss))\n",
    "        torch.save(model.state_dict(), config.save_path)\n",
    "\n",
    "    gc.collect()\n",
    "    if hasattr(torch.cuda, 'empty_cache'):\n",
    "        torch.cuda.empty_cache()\n",
    "\n",
    "print('Finished Training')"
   ],
   "metadata": {
    "collapsed": false,
    "ExecuteTime": {
     "end_time": "2023-12-28T13:45:16.956862600Z",
     "start_time": "2023-12-28T13:45:09.611319200Z"
    }
   },
   "id": "bc2a6e2b5d896fd4"
  },
  {
   "cell_type": "code",
   "execution_count": null,
   "outputs": [],
   "source": [
    "print(x_train_tensor.shape)\n",
    "print(scaler.inverse_transform(x_train_tensor))"
   ],
   "metadata": {
    "collapsed": false
   },
   "id": "f037712a922b2b3e"
  },
  {
   "cell_type": "code",
   "execution_count": null,
   "outputs": [],
   "source": [
    "# 9.绘制结果\n",
    "gc.collect()\n",
    "if hasattr(torch.cuda, 'empty_cache'):\n",
    "    torch.cuda.empty_cache()\n",
    "\n",
    "queueId = 3\n",
    "# 显示多少时间步的数据，太多容易看不清\n",
    "plot_size = 500\n",
    "# 预测哪个时间范围的数据\n",
    "train_pred_range = [0, 3000]\n",
    "test_pred_range = [0, 600]\n",
    "\n",
    "x_train_pred = model(x_train_tensor[train_pred_range[0]:train_pred_range[1]].to(device))\n",
    "print(x_train_pred.shape)\n",
    "plt.figure(figsize=(15, 8))\n",
    "plt.plot(\n",
    "    scaler.inverse_transform(\n",
    "        (x_train_pred.detach().cpu().numpy()[\n",
    "         : plot_size, 0]).reshape(-1, 1)),\n",
    "    label='pred', color='blue')\n",
    "plt.plot(\n",
    "    scaler.inverse_transform(\n",
    "        y_train_tensor[train_pred_range[0]:train_pred_range[1]].detach().numpy()[: plot_size, 0].reshape(-1, 1)),\n",
    "    label='true',\n",
    "    color='red')\n",
    "plt.legend()\n",
    "plt.show()\n",
    "\n",
    "y_test_pred = model(x_test_tensor[test_pred_range[0]:test_pred_range[1]].to(device))\n",
    "plt.figure(figsize=(15, 8))\n",
    "plt.plot(scaler.inverse_transform(y_test_pred.detach().cpu().numpy()[: plot_size, 0].reshape(-1, 1)), label='pred',\n",
    "         color='blue')\n",
    "plt.plot(\n",
    "    scaler.inverse_transform(\n",
    "        y_test_tensor[test_pred_range[0]:test_pred_range[1]].detach().numpy()[: plot_size, 0].reshape(-1, 1)),\n",
    "    label='true',\n",
    "    color='red')\n",
    "plt.legend()\n",
    "plt.show()\n"
   ],
   "metadata": {
    "collapsed": false
   },
   "id": "d17acadabe1c59c2"
  },
  {
   "cell_type": "code",
   "execution_count": null,
   "outputs": [],
   "source": [],
   "metadata": {
    "collapsed": false
   },
   "id": "d7144fdf552e1ecb"
  }
 ],
 "metadata": {
  "kernelspec": {
   "display_name": "Python 3",
   "language": "python",
   "name": "python3"
  },
  "language_info": {
   "codemirror_mode": {
    "name": "ipython",
    "version": 2
   },
   "file_extension": ".py",
   "mimetype": "text/x-python",
   "name": "python",
   "nbconvert_exporter": "python",
   "pygments_lexer": "ipython2",
   "version": "2.7.6"
  }
 },
 "nbformat": 4,
 "nbformat_minor": 5
}
