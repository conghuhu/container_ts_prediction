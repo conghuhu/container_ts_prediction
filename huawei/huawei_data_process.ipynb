{
 "cells": [
  {
   "cell_type": "code",
   "execution_count": 44,
   "id": "initial_id",
   "metadata": {
    "collapsed": true,
    "ExecuteTime": {
     "end_time": "2024-02-21T02:32:33.714356900Z",
     "start_time": "2024-02-21T02:32:33.697846300Z"
    }
   },
   "outputs": [],
   "source": [
    "import os\n",
    "import warnings\n",
    "\n",
    "import pandas as pd\n",
    "from tqdm import tqdm"
   ]
  },
  {
   "cell_type": "code",
   "execution_count": 45,
   "outputs": [],
   "source": [
    "# 预设值\n",
    "os.environ['KMP_DUPLICATE_LIB_OK'] = 'TRUE'\n",
    "\n",
    "warnings.simplefilter('ignore')\n",
    "warnings.filterwarnings('ignore')\n",
    "\n",
    "pd.options.display.max_columns = None  # 展示所有列"
   ],
   "metadata": {
    "collapsed": false,
    "ExecuteTime": {
     "end_time": "2024-02-21T02:32:34.151332700Z",
     "start_time": "2024-02-21T02:32:34.135311500Z"
    }
   },
   "id": "a19ed3b9100b3bd5"
  },
  {
   "cell_type": "code",
   "execution_count": 46,
   "outputs": [],
   "source": [
    "folders = ['requests_minute', 'memory_usage_minute', 'cpu_usage_minute', 'instances_minute', 'memory_limit_minute',\n",
    "           'cpu_limit_minute']\n",
    "base_path = '../datasets/huawei/private_dataset'  # 更新为你的数据集的基本路径"
   ],
   "metadata": {
    "collapsed": false,
    "ExecuteTime": {
     "end_time": "2024-02-21T02:32:34.650996200Z",
     "start_time": "2024-02-21T02:32:34.631204500Z"
    }
   },
   "id": "8261d0d8254a8441"
  },
  {
   "cell_type": "code",
   "execution_count": 47,
   "outputs": [
    {
     "name": "stderr",
     "output_type": "stream",
     "text": [
      " 26%|██▌       | 61/235 [00:36<01:44,  1.67it/s]\n"
     ]
    },
    {
     "name": "stdout",
     "output_type": "stream",
     "text": [
      "   day  time  hour  minute  API_ID  requests_minute  memory_usage_minute  \\\n",
      "0    0     0     0       0       0              0.0                  0.0   \n",
      "1    0    60     0       1       0              0.0                  0.0   \n",
      "2    0   120     0       2       0              0.0                  0.0   \n",
      "3    0   180     0       3       0              0.0                  0.0   \n",
      "4    0   240     0       4       0              0.0                  0.0   \n",
      "\n",
      "   cpu_usage_minute  instances_minute  memory_limit_minute  cpu_limit_minute  \\\n",
      "0               0.0               0.0                  0.0               0.0   \n",
      "1               0.0               0.0                  0.0               0.0   \n",
      "2               0.0               0.0                  0.0               0.0   \n",
      "3               0.0               0.0                  0.0               0.0   \n",
      "4               0.0               0.0                  0.0               0.0   \n",
      "\n",
      "   total_cpu_usage  total_memory_usage  absolute_cpu_usage  \\\n",
      "0              0.0                 0.0                 0.0   \n",
      "1              0.0                 0.0                 0.0   \n",
      "2              0.0                 0.0                 0.0   \n",
      "3              0.0                 0.0                 0.0   \n",
      "4              0.0                 0.0                 0.0   \n",
      "\n",
      "   absolute_memory_usage  \n",
      "0                    0.0  \n",
      "1                    0.0  \n",
      "2                    0.0  \n",
      "3                    0.0  \n",
      "4                    0.0  \n"
     ]
    }
   ],
   "source": [
    "# 初始化空DataFrame来存储最终结果\n",
    "final_df = pd.DataFrame()\n",
    "\n",
    "day_count = 1\n",
    "# 遍历每一天\n",
    "for day in tqdm(range(235)):  # 从day_000.csv到day_234.csv\n",
    "    if day_count > 52:\n",
    "        break\n",
    "    day_str = f'day_{day:03}.csv'\n",
    "    day_data = None\n",
    "\n",
    "    # 遍历每个文件夹（数据类型）\n",
    "    for folder in folders:\n",
    "        file_path = os.path.join(base_path, folder, day_str)\n",
    "\n",
    "        try:\n",
    "            # 读取数据\n",
    "            temp_df = pd.read_csv(file_path)\n",
    "        except FileNotFoundError:\n",
    "            # print(f'文件{file_path}不存在')\n",
    "            continue\n",
    "\n",
    "        # 将数据从宽格式转换为长格式\n",
    "        temp_df_long = temp_df.melt(id_vars=['day', 'time'], var_name='API_ID', value_name=folder)\n",
    "\n",
    "        # 转换API_ID为整型，以便于后续处理\n",
    "        temp_df_long['API_ID'] = temp_df_long['API_ID'].astype(int)\n",
    "\n",
    "        # 合并数据\n",
    "        if day_data is None:\n",
    "            day_data = temp_df_long\n",
    "        else:\n",
    "            day_data = pd.merge(day_data, temp_df_long, on=['day', 'time', 'API_ID'])\n",
    "\n",
    "    # 将当天的数据添加到最终结果DataFrame中\n",
    "    final_df = pd.concat([final_df, day_data], ignore_index=True)\n",
    "    if day_data is not None:\n",
    "        day_count += 1\n",
    "\n",
    "# 填充缺失值为0\n",
    "final_df.fillna(0, inplace=True)\n",
    "\n",
    "# 重命名列以符合要求\n",
    "final_df.rename(columns={'requests_minute': 'requests_minute',\n",
    "                         'memory_usage_minute': 'memory_usage_minute',\n",
    "                         'cpu_usage_minute': 'cpu_usage_minute',\n",
    "                         'instances_minute': 'instances_minute',\n",
    "                         'cpu_limit_minute': 'cpu_limit_minute',\n",
    "                         'memory_limit_minute': 'memory_limit_minute',\n",
    "                         }, inplace=True)\n",
    "\n",
    "final_df = final_df.sort_values(by=['API_ID', 'time']).reset_index(drop=True)\n",
    "seconds_per_day = 24 * 3600\n",
    "final_df['seconds_since_midnight'] = final_df['time'] - (final_df['day'] * seconds_per_day)\n",
    "# 计算相对于当天的小时\n",
    "final_df['hour'] = final_df['seconds_since_midnight'] // 3600\n",
    "# 计算一小时内的分钟\n",
    "final_df['minute'] = (final_df['seconds_since_midnight'] % 3600) // 60\n",
    "\n",
    "final_df['total_cpu_usage'] = (final_df['cpu_usage_minute'] * final_df['instances_minute']).round(3)\n",
    "final_df['total_memory_usage'] = (final_df['memory_usage_minute'] * final_df['instances_minute']).round(3)\n",
    "final_df['absolute_cpu_usage'] = (final_df['cpu_usage_minute'] * final_df['cpu_limit_minute']).round(3)\n",
    "final_df['absolute_memory_usage'] = (final_df['memory_usage_minute'] * final_df['memory_limit_minute']).round(3)\n",
    "\n",
    "final_df = final_df.drop(['seconds_since_midnight'], axis=1)\n",
    "\n",
    "order = ['day', 'time', 'hour', 'minute', 'API_ID', 'requests_minute',\n",
    "         'memory_usage_minute', 'cpu_usage_minute', 'instances_minute', 'memory_limit_minute',\n",
    "         'cpu_limit_minute', 'total_cpu_usage', 'total_memory_usage', 'absolute_cpu_usage', 'absolute_memory_usage',\n",
    "         ]\n",
    "final_df = final_df[order]\n",
    "\n",
    "print(final_df.head())\n",
    "# 将合并后的数据保存到CSV文件\n",
    "final_csv_path = os.path.join('../datasets/huawei', 'combined_dataset.csv')\n",
    "final_df.to_csv(final_csv_path, index=False)"
   ],
   "metadata": {
    "collapsed": false,
    "ExecuteTime": {
     "end_time": "2024-02-21T02:34:19.579577200Z",
     "start_time": "2024-02-21T02:32:35.334918800Z"
    }
   },
   "id": "d50fdc861f10a988"
  },
  {
   "cell_type": "code",
   "execution_count": null,
   "outputs": [],
   "source": [],
   "metadata": {
    "collapsed": false
   },
   "id": "3f7161a11c320afd"
  }
 ],
 "metadata": {
  "kernelspec": {
   "display_name": "Python 3",
   "language": "python",
   "name": "python3"
  },
  "language_info": {
   "codemirror_mode": {
    "name": "ipython",
    "version": 2
   },
   "file_extension": ".py",
   "mimetype": "text/x-python",
   "name": "python",
   "nbconvert_exporter": "python",
   "pygments_lexer": "ipython2",
   "version": "2.7.6"
  }
 },
 "nbformat": 4,
 "nbformat_minor": 5
}
