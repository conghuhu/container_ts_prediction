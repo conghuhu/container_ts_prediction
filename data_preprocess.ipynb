{
 "cells": [
  {
   "cell_type": "code",
   "execution_count": null,
   "id": "initial_id",
   "metadata": {
    "collapsed": true
   },
   "outputs": [],
   "source": [
    "import os\n",
    "import warnings\n",
    "\n",
    "import pandas as pd\n",
    "from sklearn.preprocessing import LabelEncoder\n",
    "from tqdm import tqdm"
   ]
  },
  {
   "cell_type": "code",
   "execution_count": null,
   "outputs": [],
   "source": [
    "# 预设值\n",
    "os.environ['KMP_DUPLICATE_LIB_OK'] = 'TRUE'\n",
    "\n",
    "warnings.simplefilter('ignore')\n",
    "warnings.filterwarnings('ignore')\n",
    "\n",
    "pd.options.display.max_columns = None  # 展示所有列"
   ],
   "metadata": {
    "collapsed": false
   },
   "id": "a948687722395e3a"
  },
  {
   "cell_type": "code",
   "execution_count": null,
   "outputs": [],
   "source": [
    "# 初始数据\n",
    "RAW_TRAIN = './data/serverless/train.csv'"
   ],
   "metadata": {
    "collapsed": false
   },
   "id": "e40a098bfa3815ca"
  },
  {
   "cell_type": "markdown",
   "source": [
    "## 1. 加载数据"
   ],
   "metadata": {
    "collapsed": false
   },
   "id": "5f72989fc67ad8bc"
  },
  {
   "cell_type": "code",
   "execution_count": null,
   "outputs": [],
   "source": [
    "# 加载原始数据\n",
    "train_df = pd.read_csv(RAW_TRAIN)\n",
    "train = train_df.sort_values(by=['QUEUE_ID', 'DOTTING_TIME']).reset_index(drop=True)"
   ],
   "metadata": {
    "collapsed": false
   },
   "id": "6088d3679708942f"
  },
  {
   "cell_type": "markdown",
   "source": [
    "## 2. 数据预处理"
   ],
   "metadata": {
    "collapsed": false
   },
   "id": "d42517d8fffbfa80"
  },
  {
   "cell_type": "code",
   "execution_count": null,
   "outputs": [],
   "source": [
    "def digitalization(fields):\n",
    "    \"\"\"将非数值型域转换为数值型.\"\"\"\n",
    "\n",
    "    for f in fields:\n",
    "        # 构建编码器\n",
    "        le = LabelEncoder()\n",
    "        le.fit(train_df[f])\n",
    "\n",
    "        # 设置新值\n",
    "        train_df[f] = le.transform(train_df[f])\n",
    "        print('%s:' % f, le.classes_)\n",
    "\n",
    "\n",
    "def pre_processing():\n",
    "    \"\"\"预处理.\"\"\"\n",
    "    print('Preprocessing...')\n",
    "\n",
    "    # 缺失值填充\n",
    "    # 经检验，为NaN的都是vm（通过QUEUE_ID查找）\n",
    "    train_df['RESOURCE_TYPE'].fillna('vm', inplace=True)\n",
    "\n",
    "    # 观察数据，填充0比较合理（NaN集中在数据前面，可能是由服务器尚未开始运行导致的）\n",
    "    train_df['DISK_USAGE'].fillna(0, inplace=True)\n",
    "\n",
    "    # 需要转换的列\n",
    "    fields = ['STATUS', 'QUEUE_TYPE', 'PLATFORM', 'RESOURCE_TYPE']\n",
    "\n",
    "    # 数值化\n",
    "    digitalization(fields)\n",
    "\n",
    "    # 重命名，原来的名字太长了\n",
    "    train_df.rename(columns={\n",
    "        'LAUNCHING_JOB_NUMS': 'LJOB',\n",
    "        'RUNNING_JOB_NUMS': 'RJOB',\n",
    "        'SUCCEED_JOB_NUMS': 'SJOB',\n",
    "        'CANCELLED_JOB_NUMS': 'CJOB',\n",
    "        'FAILED_JOB_NUMS': 'FJOB'\n",
    "    }, inplace=True)"
   ],
   "metadata": {
    "collapsed": false
   },
   "id": "ec33c1a8b2029db3"
  },
  {
   "cell_type": "code",
   "execution_count": null,
   "outputs": [],
   "source": [
    "%%time\n",
    "pre_processing()\n",
    "\n",
    "display(train_df)"
   ],
   "metadata": {
    "collapsed": false
   },
   "id": "3d5de487e9fd486e"
  },
  {
   "cell_type": "markdown",
   "source": [
    "## 3. 导出数据"
   ],
   "metadata": {
    "collapsed": false
   },
   "id": "511d62bf9b086b4e"
  },
  {
   "cell_type": "code",
   "execution_count": null,
   "outputs": [],
   "source": [
    "# 根据EDA分析，我选了几个感觉可以训练的QUEUE\n",
    "queues = [2, 3, 4, 27, 36, 291, 85153, 85693]\n",
    "for queue_id in tqdm(queues):\n",
    "    queue_df = train_df[train_df.QUEUE_ID == queue_id]\n",
    "    # 删除原有的index列，换成时间列\n",
    "    queue_df.set_index('DOTTING_TIME', inplace=True)\n",
    "    # 将处理好的数据导出到本地\n",
    "    queue_df.to_csv('../data/serverless/cached/queue_id_%d.csv' % queue_id, encoding=\"utf-8\", index=True,\n",
    "                    index_label=\"timestamp\")"
   ],
   "metadata": {
    "collapsed": false
   },
   "id": "9fd060c648845593"
  }
 ],
 "metadata": {
  "kernelspec": {
   "display_name": "Python 3",
   "language": "python",
   "name": "python3"
  },
  "language_info": {
   "codemirror_mode": {
    "name": "ipython",
    "version": 2
   },
   "file_extension": ".py",
   "mimetype": "text/x-python",
   "name": "python",
   "nbconvert_exporter": "python",
   "pygments_lexer": "ipython2",
   "version": "2.7.6"
  }
 },
 "nbformat": 4,
 "nbformat_minor": 5
}
