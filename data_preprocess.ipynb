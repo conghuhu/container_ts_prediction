{
 "cells": [
  {
   "cell_type": "code",
   "execution_count": 1,
   "id": "initial_id",
   "metadata": {
    "collapsed": true,
    "ExecuteTime": {
     "end_time": "2024-01-01T14:08:26.100875900Z",
     "start_time": "2024-01-01T14:08:25.452304500Z"
    }
   },
   "outputs": [],
   "source": [
    "import os\n",
    "import warnings\n",
    "\n",
    "import pandas as pd\n",
    "from sklearn.preprocessing import LabelEncoder\n",
    "from tqdm import tqdm"
   ]
  },
  {
   "cell_type": "code",
   "execution_count": 2,
   "outputs": [],
   "source": [
    "# 预设值\n",
    "os.environ['KMP_DUPLICATE_LIB_OK'] = 'TRUE'\n",
    "\n",
    "warnings.simplefilter('ignore')\n",
    "warnings.filterwarnings('ignore')\n",
    "\n",
    "pd.options.display.max_columns = None  # 展示所有列"
   ],
   "metadata": {
    "collapsed": false,
    "ExecuteTime": {
     "end_time": "2024-01-01T14:08:26.829768500Z",
     "start_time": "2024-01-01T14:08:26.809311800Z"
    }
   },
   "id": "a948687722395e3a"
  },
  {
   "cell_type": "code",
   "execution_count": 3,
   "outputs": [],
   "source": [
    "# 初始数据\n",
    "RAW_TRAIN = './datasets/serverless/train.csv'"
   ],
   "metadata": {
    "collapsed": false,
    "ExecuteTime": {
     "end_time": "2024-01-01T14:08:27.498359500Z",
     "start_time": "2024-01-01T14:08:27.472212900Z"
    }
   },
   "id": "e40a098bfa3815ca"
  },
  {
   "cell_type": "markdown",
   "source": [
    "## 1. 加载数据"
   ],
   "metadata": {
    "collapsed": false
   },
   "id": "5f72989fc67ad8bc"
  },
  {
   "cell_type": "code",
   "execution_count": 4,
   "outputs": [
    {
     "data": {
      "text/plain": "        QUEUE_ID  CU     STATUS QUEUE_TYPE PLATFORM  CPU_USAGE  MEM_USAGE  \\\n0              2  16  available        sql   x86_64          3         54   \n1              2  16  available        sql   x86_64          2         54   \n2              2  16  available        sql   x86_64          7         54   \n3              2  16  available        sql   x86_64          4         54   \n4              2  16  available        sql   x86_64          5         54   \n...          ...  ..        ...        ...      ...        ...        ...   \n501725     87139  16  available    general   x86_64          3         36   \n501726     87139  16  available    general   x86_64          2         36   \n501727     87139  16  available    general   x86_64          3         36   \n501728     87139  16  available    general   x86_64          2         36   \n501729     87139  16  available    general   x86_64          2         36   \n\n        LAUNCHING_JOB_NUMS  RUNNING_JOB_NUMS  SUCCEED_JOB_NUMS  \\\n0                        0                 0                 0   \n1                        0                 0                 0   \n2                        0                 0                 0   \n3                        0                 0                 0   \n4                        0                 0                 0   \n...                    ...               ...               ...   \n501725                   0                 0                 0   \n501726                   0                 0                 0   \n501727                   0                 0                 0   \n501728                   0                 0                 0   \n501729                   0                 0                 0   \n\n        CANCELLED_JOB_NUMS  FAILED_JOB_NUMS   DOTTING_TIME RESOURCE_TYPE  \\\n0                        0                0  1590683100000            vm   \n1                        0                0  1590683400000            vm   \n2                        0                0  1590683700000            vm   \n3                        0                0  1590684000000            vm   \n4                        0                0  1590684120000            vm   \n...                    ...              ...            ...           ...   \n501725                   0                0  1599867000000            vm   \n501726                   0                0  1599867420000            vm   \n501727                   0                0  1599867840000            vm   \n501728                   0                0  1599868260000            vm   \n501729                   0                0  1599868680000            vm   \n\n        DISK_USAGE  \n0             20.0  \n1             20.0  \n2             20.0  \n3             20.0  \n4             20.0  \n...            ...  \n501725        26.0  \n501726        26.0  \n501727        26.0  \n501728        26.0  \n501729        26.0  \n\n[501730 rows x 15 columns]",
      "text/html": "<div>\n<style scoped>\n    .dataframe tbody tr th:only-of-type {\n        vertical-align: middle;\n    }\n\n    .dataframe tbody tr th {\n        vertical-align: top;\n    }\n\n    .dataframe thead th {\n        text-align: right;\n    }\n</style>\n<table border=\"1\" class=\"dataframe\">\n  <thead>\n    <tr style=\"text-align: right;\">\n      <th></th>\n      <th>QUEUE_ID</th>\n      <th>CU</th>\n      <th>STATUS</th>\n      <th>QUEUE_TYPE</th>\n      <th>PLATFORM</th>\n      <th>CPU_USAGE</th>\n      <th>MEM_USAGE</th>\n      <th>LAUNCHING_JOB_NUMS</th>\n      <th>RUNNING_JOB_NUMS</th>\n      <th>SUCCEED_JOB_NUMS</th>\n      <th>CANCELLED_JOB_NUMS</th>\n      <th>FAILED_JOB_NUMS</th>\n      <th>DOTTING_TIME</th>\n      <th>RESOURCE_TYPE</th>\n      <th>DISK_USAGE</th>\n    </tr>\n  </thead>\n  <tbody>\n    <tr>\n      <th>0</th>\n      <td>2</td>\n      <td>16</td>\n      <td>available</td>\n      <td>sql</td>\n      <td>x86_64</td>\n      <td>3</td>\n      <td>54</td>\n      <td>0</td>\n      <td>0</td>\n      <td>0</td>\n      <td>0</td>\n      <td>0</td>\n      <td>1590683100000</td>\n      <td>vm</td>\n      <td>20.0</td>\n    </tr>\n    <tr>\n      <th>1</th>\n      <td>2</td>\n      <td>16</td>\n      <td>available</td>\n      <td>sql</td>\n      <td>x86_64</td>\n      <td>2</td>\n      <td>54</td>\n      <td>0</td>\n      <td>0</td>\n      <td>0</td>\n      <td>0</td>\n      <td>0</td>\n      <td>1590683400000</td>\n      <td>vm</td>\n      <td>20.0</td>\n    </tr>\n    <tr>\n      <th>2</th>\n      <td>2</td>\n      <td>16</td>\n      <td>available</td>\n      <td>sql</td>\n      <td>x86_64</td>\n      <td>7</td>\n      <td>54</td>\n      <td>0</td>\n      <td>0</td>\n      <td>0</td>\n      <td>0</td>\n      <td>0</td>\n      <td>1590683700000</td>\n      <td>vm</td>\n      <td>20.0</td>\n    </tr>\n    <tr>\n      <th>3</th>\n      <td>2</td>\n      <td>16</td>\n      <td>available</td>\n      <td>sql</td>\n      <td>x86_64</td>\n      <td>4</td>\n      <td>54</td>\n      <td>0</td>\n      <td>0</td>\n      <td>0</td>\n      <td>0</td>\n      <td>0</td>\n      <td>1590684000000</td>\n      <td>vm</td>\n      <td>20.0</td>\n    </tr>\n    <tr>\n      <th>4</th>\n      <td>2</td>\n      <td>16</td>\n      <td>available</td>\n      <td>sql</td>\n      <td>x86_64</td>\n      <td>5</td>\n      <td>54</td>\n      <td>0</td>\n      <td>0</td>\n      <td>0</td>\n      <td>0</td>\n      <td>0</td>\n      <td>1590684120000</td>\n      <td>vm</td>\n      <td>20.0</td>\n    </tr>\n    <tr>\n      <th>...</th>\n      <td>...</td>\n      <td>...</td>\n      <td>...</td>\n      <td>...</td>\n      <td>...</td>\n      <td>...</td>\n      <td>...</td>\n      <td>...</td>\n      <td>...</td>\n      <td>...</td>\n      <td>...</td>\n      <td>...</td>\n      <td>...</td>\n      <td>...</td>\n      <td>...</td>\n    </tr>\n    <tr>\n      <th>501725</th>\n      <td>87139</td>\n      <td>16</td>\n      <td>available</td>\n      <td>general</td>\n      <td>x86_64</td>\n      <td>3</td>\n      <td>36</td>\n      <td>0</td>\n      <td>0</td>\n      <td>0</td>\n      <td>0</td>\n      <td>0</td>\n      <td>1599867000000</td>\n      <td>vm</td>\n      <td>26.0</td>\n    </tr>\n    <tr>\n      <th>501726</th>\n      <td>87139</td>\n      <td>16</td>\n      <td>available</td>\n      <td>general</td>\n      <td>x86_64</td>\n      <td>2</td>\n      <td>36</td>\n      <td>0</td>\n      <td>0</td>\n      <td>0</td>\n      <td>0</td>\n      <td>0</td>\n      <td>1599867420000</td>\n      <td>vm</td>\n      <td>26.0</td>\n    </tr>\n    <tr>\n      <th>501727</th>\n      <td>87139</td>\n      <td>16</td>\n      <td>available</td>\n      <td>general</td>\n      <td>x86_64</td>\n      <td>3</td>\n      <td>36</td>\n      <td>0</td>\n      <td>0</td>\n      <td>0</td>\n      <td>0</td>\n      <td>0</td>\n      <td>1599867840000</td>\n      <td>vm</td>\n      <td>26.0</td>\n    </tr>\n    <tr>\n      <th>501728</th>\n      <td>87139</td>\n      <td>16</td>\n      <td>available</td>\n      <td>general</td>\n      <td>x86_64</td>\n      <td>2</td>\n      <td>36</td>\n      <td>0</td>\n      <td>0</td>\n      <td>0</td>\n      <td>0</td>\n      <td>0</td>\n      <td>1599868260000</td>\n      <td>vm</td>\n      <td>26.0</td>\n    </tr>\n    <tr>\n      <th>501729</th>\n      <td>87139</td>\n      <td>16</td>\n      <td>available</td>\n      <td>general</td>\n      <td>x86_64</td>\n      <td>2</td>\n      <td>36</td>\n      <td>0</td>\n      <td>0</td>\n      <td>0</td>\n      <td>0</td>\n      <td>0</td>\n      <td>1599868680000</td>\n      <td>vm</td>\n      <td>26.0</td>\n    </tr>\n  </tbody>\n</table>\n<p>501730 rows × 15 columns</p>\n</div>"
     },
     "metadata": {},
     "output_type": "display_data"
    }
   ],
   "source": [
    "# 加载原始数据\n",
    "train_df = pd.read_csv(RAW_TRAIN)\n",
    "train_df = train_df.sort_values(by=['QUEUE_ID', 'DOTTING_TIME']).reset_index(drop=True)\n",
    "display(train_df)"
   ],
   "metadata": {
    "collapsed": false,
    "ExecuteTime": {
     "end_time": "2024-01-01T14:08:28.719472Z",
     "start_time": "2024-01-01T14:08:28.139006600Z"
    }
   },
   "id": "6088d3679708942f"
  },
  {
   "cell_type": "markdown",
   "source": [
    "## 2. 数据预处理"
   ],
   "metadata": {
    "collapsed": false
   },
   "id": "d42517d8fffbfa80"
  },
  {
   "cell_type": "code",
   "execution_count": 5,
   "outputs": [],
   "source": [
    "def digitalization(fields):\n",
    "    \"\"\"将非数值型域转换为数值型.\"\"\"\n",
    "\n",
    "    for f in fields:\n",
    "        # 构建编码器\n",
    "        le = LabelEncoder()\n",
    "        le.fit(train_df[f])\n",
    "\n",
    "        # 设置新值\n",
    "        train_df[f] = le.transform(train_df[f])\n",
    "        print('%s:' % f, le.classes_)\n",
    "\n",
    "\n",
    "def pre_processing():\n",
    "    \"\"\"预处理.\"\"\"\n",
    "    print('Preprocessing...')\n",
    "\n",
    "    # 缺失值填充\n",
    "    # 经检验，为NaN的都是vm（通过QUEUE_ID查找）\n",
    "    train_df['RESOURCE_TYPE'].fillna('vm', inplace=True)\n",
    "\n",
    "    # 观察数据，填充0比较合理（NaN集中在数据前面，可能是由服务器尚未开始运行导致的）\n",
    "    train_df['DISK_USAGE'].fillna(0, inplace=True)\n",
    "\n",
    "    # 需要转换的列\n",
    "    fields = ['STATUS', 'QUEUE_TYPE', 'PLATFORM', 'RESOURCE_TYPE']\n",
    "\n",
    "    # 数值化\n",
    "    digitalization(fields)\n",
    "\n",
    "    # 重命名，原来的名字太长了\n",
    "    train_df.rename(columns={\n",
    "        'LAUNCHING_JOB_NUMS': 'LJOB',\n",
    "        'RUNNING_JOB_NUMS': 'RJOB',\n",
    "        'SUCCEED_JOB_NUMS': 'SJOB',\n",
    "        'CANCELLED_JOB_NUMS': 'CJOB',\n",
    "        'FAILED_JOB_NUMS': 'FJOB'\n",
    "    }, inplace=True)"
   ],
   "metadata": {
    "collapsed": false,
    "ExecuteTime": {
     "end_time": "2024-01-01T14:08:29.407493900Z",
     "start_time": "2024-01-01T14:08:29.397344700Z"
    }
   },
   "id": "ec33c1a8b2029db3"
  },
  {
   "cell_type": "code",
   "execution_count": 6,
   "outputs": [
    {
     "name": "stdout",
     "output_type": "stream",
     "text": [
      "Preprocessing...\n",
      "STATUS: ['assigned' 'assigning' 'available' 'suspended']\n",
      "QUEUE_TYPE: ['general' 'spark' 'sql']\n",
      "PLATFORM: ['aarch64' 'x86_64']\n",
      "RESOURCE_TYPE: ['container' 'vm']\n"
     ]
    },
    {
     "data": {
      "text/plain": "        QUEUE_ID  CU  STATUS  QUEUE_TYPE  PLATFORM  CPU_USAGE  MEM_USAGE  \\\n0              2  16       2           2         1          3         54   \n1              2  16       2           2         1          2         54   \n2              2  16       2           2         1          7         54   \n3              2  16       2           2         1          4         54   \n4              2  16       2           2         1          5         54   \n...          ...  ..     ...         ...       ...        ...        ...   \n501725     87139  16       2           0         1          3         36   \n501726     87139  16       2           0         1          2         36   \n501727     87139  16       2           0         1          3         36   \n501728     87139  16       2           0         1          2         36   \n501729     87139  16       2           0         1          2         36   \n\n        LJOB  RJOB  SJOB  CJOB  FJOB   DOTTING_TIME  RESOURCE_TYPE  DISK_USAGE  \n0          0     0     0     0     0  1590683100000              1        20.0  \n1          0     0     0     0     0  1590683400000              1        20.0  \n2          0     0     0     0     0  1590683700000              1        20.0  \n3          0     0     0     0     0  1590684000000              1        20.0  \n4          0     0     0     0     0  1590684120000              1        20.0  \n...      ...   ...   ...   ...   ...            ...            ...         ...  \n501725     0     0     0     0     0  1599867000000              1        26.0  \n501726     0     0     0     0     0  1599867420000              1        26.0  \n501727     0     0     0     0     0  1599867840000              1        26.0  \n501728     0     0     0     0     0  1599868260000              1        26.0  \n501729     0     0     0     0     0  1599868680000              1        26.0  \n\n[501730 rows x 15 columns]",
      "text/html": "<div>\n<style scoped>\n    .dataframe tbody tr th:only-of-type {\n        vertical-align: middle;\n    }\n\n    .dataframe tbody tr th {\n        vertical-align: top;\n    }\n\n    .dataframe thead th {\n        text-align: right;\n    }\n</style>\n<table border=\"1\" class=\"dataframe\">\n  <thead>\n    <tr style=\"text-align: right;\">\n      <th></th>\n      <th>QUEUE_ID</th>\n      <th>CU</th>\n      <th>STATUS</th>\n      <th>QUEUE_TYPE</th>\n      <th>PLATFORM</th>\n      <th>CPU_USAGE</th>\n      <th>MEM_USAGE</th>\n      <th>LJOB</th>\n      <th>RJOB</th>\n      <th>SJOB</th>\n      <th>CJOB</th>\n      <th>FJOB</th>\n      <th>DOTTING_TIME</th>\n      <th>RESOURCE_TYPE</th>\n      <th>DISK_USAGE</th>\n    </tr>\n  </thead>\n  <tbody>\n    <tr>\n      <th>0</th>\n      <td>2</td>\n      <td>16</td>\n      <td>2</td>\n      <td>2</td>\n      <td>1</td>\n      <td>3</td>\n      <td>54</td>\n      <td>0</td>\n      <td>0</td>\n      <td>0</td>\n      <td>0</td>\n      <td>0</td>\n      <td>1590683100000</td>\n      <td>1</td>\n      <td>20.0</td>\n    </tr>\n    <tr>\n      <th>1</th>\n      <td>2</td>\n      <td>16</td>\n      <td>2</td>\n      <td>2</td>\n      <td>1</td>\n      <td>2</td>\n      <td>54</td>\n      <td>0</td>\n      <td>0</td>\n      <td>0</td>\n      <td>0</td>\n      <td>0</td>\n      <td>1590683400000</td>\n      <td>1</td>\n      <td>20.0</td>\n    </tr>\n    <tr>\n      <th>2</th>\n      <td>2</td>\n      <td>16</td>\n      <td>2</td>\n      <td>2</td>\n      <td>1</td>\n      <td>7</td>\n      <td>54</td>\n      <td>0</td>\n      <td>0</td>\n      <td>0</td>\n      <td>0</td>\n      <td>0</td>\n      <td>1590683700000</td>\n      <td>1</td>\n      <td>20.0</td>\n    </tr>\n    <tr>\n      <th>3</th>\n      <td>2</td>\n      <td>16</td>\n      <td>2</td>\n      <td>2</td>\n      <td>1</td>\n      <td>4</td>\n      <td>54</td>\n      <td>0</td>\n      <td>0</td>\n      <td>0</td>\n      <td>0</td>\n      <td>0</td>\n      <td>1590684000000</td>\n      <td>1</td>\n      <td>20.0</td>\n    </tr>\n    <tr>\n      <th>4</th>\n      <td>2</td>\n      <td>16</td>\n      <td>2</td>\n      <td>2</td>\n      <td>1</td>\n      <td>5</td>\n      <td>54</td>\n      <td>0</td>\n      <td>0</td>\n      <td>0</td>\n      <td>0</td>\n      <td>0</td>\n      <td>1590684120000</td>\n      <td>1</td>\n      <td>20.0</td>\n    </tr>\n    <tr>\n      <th>...</th>\n      <td>...</td>\n      <td>...</td>\n      <td>...</td>\n      <td>...</td>\n      <td>...</td>\n      <td>...</td>\n      <td>...</td>\n      <td>...</td>\n      <td>...</td>\n      <td>...</td>\n      <td>...</td>\n      <td>...</td>\n      <td>...</td>\n      <td>...</td>\n      <td>...</td>\n    </tr>\n    <tr>\n      <th>501725</th>\n      <td>87139</td>\n      <td>16</td>\n      <td>2</td>\n      <td>0</td>\n      <td>1</td>\n      <td>3</td>\n      <td>36</td>\n      <td>0</td>\n      <td>0</td>\n      <td>0</td>\n      <td>0</td>\n      <td>0</td>\n      <td>1599867000000</td>\n      <td>1</td>\n      <td>26.0</td>\n    </tr>\n    <tr>\n      <th>501726</th>\n      <td>87139</td>\n      <td>16</td>\n      <td>2</td>\n      <td>0</td>\n      <td>1</td>\n      <td>2</td>\n      <td>36</td>\n      <td>0</td>\n      <td>0</td>\n      <td>0</td>\n      <td>0</td>\n      <td>0</td>\n      <td>1599867420000</td>\n      <td>1</td>\n      <td>26.0</td>\n    </tr>\n    <tr>\n      <th>501727</th>\n      <td>87139</td>\n      <td>16</td>\n      <td>2</td>\n      <td>0</td>\n      <td>1</td>\n      <td>3</td>\n      <td>36</td>\n      <td>0</td>\n      <td>0</td>\n      <td>0</td>\n      <td>0</td>\n      <td>0</td>\n      <td>1599867840000</td>\n      <td>1</td>\n      <td>26.0</td>\n    </tr>\n    <tr>\n      <th>501728</th>\n      <td>87139</td>\n      <td>16</td>\n      <td>2</td>\n      <td>0</td>\n      <td>1</td>\n      <td>2</td>\n      <td>36</td>\n      <td>0</td>\n      <td>0</td>\n      <td>0</td>\n      <td>0</td>\n      <td>0</td>\n      <td>1599868260000</td>\n      <td>1</td>\n      <td>26.0</td>\n    </tr>\n    <tr>\n      <th>501729</th>\n      <td>87139</td>\n      <td>16</td>\n      <td>2</td>\n      <td>0</td>\n      <td>1</td>\n      <td>2</td>\n      <td>36</td>\n      <td>0</td>\n      <td>0</td>\n      <td>0</td>\n      <td>0</td>\n      <td>0</td>\n      <td>1599868680000</td>\n      <td>1</td>\n      <td>26.0</td>\n    </tr>\n  </tbody>\n</table>\n<p>501730 rows × 15 columns</p>\n</div>"
     },
     "metadata": {},
     "output_type": "display_data"
    },
    {
     "name": "stdout",
     "output_type": "stream",
     "text": [
      "CPU times: total: 46.9 ms\n",
      "Wall time: 324 ms\n"
     ]
    }
   ],
   "source": [
    "%%time\n",
    "pre_processing()\n",
    "\n",
    "train_df = train_df.sort_values(by=['QUEUE_ID', 'DOTTING_TIME']).reset_index(drop=True)\n",
    "display(train_df)"
   ],
   "metadata": {
    "collapsed": false,
    "ExecuteTime": {
     "end_time": "2024-01-01T14:08:30.299493200Z",
     "start_time": "2024-01-01T14:08:29.959302200Z"
    }
   },
   "id": "3d5de487e9fd486e"
  },
  {
   "cell_type": "markdown",
   "source": [
    "## 3. 导出数据"
   ],
   "metadata": {
    "collapsed": false
   },
   "id": "511d62bf9b086b4e"
  },
  {
   "cell_type": "code",
   "execution_count": 7,
   "outputs": [
    {
     "name": "stdout",
     "output_type": "stream",
     "text": [
      "               CPU_USAGE  QUEUE_ID  CU  QUEUE_TYPE  MEM_USAGE  LJOB  RJOB\n",
      "DOTTING_TIME                                                             \n",
      "1590683100000          3         2  16           2         54     0     0\n",
      "1590683400000          2         2  16           2         54     0     0\n",
      "1590683700000          7         2  16           2         54     0     0\n",
      "1590684000000          4         2  16           2         54     0     0\n",
      "1590684120000          5         2  16           2         54     0     0\n",
      "...                  ...       ...  ..         ...        ...   ...   ...\n",
      "1599867000000          3     87139  16           0         36     0     0\n",
      "1599867420000          2     87139  16           0         36     0     0\n",
      "1599867840000          3     87139  16           0         36     0     0\n",
      "1599868260000          2     87139  16           0         36     0     0\n",
      "1599868680000          2     87139  16           0         36     0     0\n",
      "\n",
      "[312325 rows x 7 columns]\n"
     ]
    }
   ],
   "source": [
    "train_df.set_index('DOTTING_TIME', inplace=True)\n",
    "\n",
    "train_df.drop(['STATUS', 'PLATFORM', 'RESOURCE_TYPE', 'DISK_USAGE', 'SJOB', 'CJOB', 'FJOB'], axis=1,\n",
    "              inplace=True)\n",
    "# 调整顺序\n",
    "new_order = ['CPU_USAGE', 'QUEUE_ID', 'CU', 'QUEUE_TYPE', 'MEM_USAGE', 'LJOB', 'RJOB']\n",
    "train_df = train_df[new_order]\n",
    "\n",
    "# 删除不必要的队列（由EDA分析后，完全没规律，无法学习）\n",
    "queue_ids_to_remove = [26, 281, 297, 298, 20889, 21487, 21671, 21673, 81221, 84151, 83609, 85617]\n",
    "train_df = train_df[~train_df['QUEUE_ID'].isin(queue_ids_to_remove)]\n",
    "\n",
    "# 七个特征\n",
    "print(train_df)\n",
    "# 输出处理好的数据集\n",
    "train_df.to_csv('./datasets/serverless/data.csv', encoding=\"utf-8\", index=True,\n",
    "                index_label=\"timestamp\")"
   ],
   "metadata": {
    "collapsed": false,
    "ExecuteTime": {
     "end_time": "2023-12-27T05:36:43.781467Z",
     "start_time": "2023-12-27T05:36:43.336237700Z"
    }
   },
   "id": "f9bb143fd9531973"
  },
  {
   "cell_type": "code",
   "execution_count": 7,
   "outputs": [
    {
     "data": {
      "text/plain": "QUEUE_ID\n2        19255\n3        19257\n4        19257\n26       10407\n27       10526\n36        3242\n233       2099\n281      10365\n287       6876\n291       8884\n293       8855\n297      21184\n298      20381\n20889    14005\n21487    28931\n21671    28095\n21673    19726\n21825    19723\n81221    19781\n82695    19726\n82697    10642\n82929    10199\n83109     8958\n83609     2120\n84151    11857\n84387    17520\n84907     6495\n85101     6618\n85153    14353\n85265    13516\n85267    13082\n85617     2553\n85619     9997\n85693    10834\n85731     8568\n85781     1149\n85915     9220\n85933     8811\n85977     8793\n86085     6195\n86865     3544\n86867     3753\n87139     2378\nName: count, dtype: int64"
     },
     "metadata": {},
     "output_type": "display_data"
    }
   ],
   "source": [
    "# 查看每个queue_id对应有多少数据\n",
    "q_ids = train_df['QUEUE_ID'].value_counts().sort_index()\n",
    "display(q_ids)\n",
    "q_ids.to_csv('./datasets/serverless/q_ids.csv', encoding=\"utf-8\", index=True)"
   ],
   "metadata": {
    "collapsed": false,
    "ExecuteTime": {
     "end_time": "2024-01-01T11:56:28.067954200Z",
     "start_time": "2024-01-01T11:56:28.034829200Z"
    }
   },
   "id": "25f4eb324872c2ff"
  },
  {
   "cell_type": "code",
   "execution_count": 7,
   "outputs": [],
   "source": [
    "# Load the provided file\n",
    "queue_ids_df = pd.read_csv('./datasets/serverless/q_ids.csv')\n",
    "\n",
    "start = 0\n",
    "ranges_start = []\n",
    "ranges_end = []\n",
    "for index, row in queue_ids_df.iterrows():\n",
    "    end = start + row['count'] - 1\n",
    "    ranges_start.append(start)\n",
    "    ranges_end.append(end)\n",
    "    start = end + 1\n",
    "\n",
    "# Add the range column to the dataframe\n",
    "queue_ids_df['ranges_start'] = ranges_start\n",
    "queue_ids_df['ranges_end'] = ranges_end\n",
    "queue_ids_df.head()\n",
    "queue_ids_df.to_csv('./datasets/serverless/q_ids.csv', encoding=\"utf-8\", index = True, index_label='id')"
   ],
   "metadata": {
    "collapsed": false,
    "ExecuteTime": {
     "end_time": "2024-01-01T14:08:37.689511200Z",
     "start_time": "2024-01-01T14:08:37.672306Z"
    }
   },
   "id": "e8cd437e877b6eed"
  },
  {
   "cell_type": "code",
   "execution_count": 15,
   "outputs": [
    {
     "data": {
      "text/plain": "    Unnamed: 0  QUEUE_ID  count             range\n0            0         2  19255        [0, 19254]\n1            1         3  19257    [19255, 38511]\n2            2         4  19257    [38512, 57768]\n3            3        27  10526    [57769, 68294]\n4            4        36   3242    [68295, 71536]\n5            5       233   2099    [71537, 73635]\n6            6       287   6876    [73636, 80511]\n7            7       291   8884    [80512, 89395]\n8            8       293   8855    [89396, 98250]\n9            9     21825  19723   [98251, 117973]\n10          10     82695  19726  [117974, 137699]\n11          11     82697  10642  [137700, 148341]\n12          12     82929  10199  [148342, 158540]\n13          13     83109   8958  [158541, 167498]\n14          14     84387  17520  [167499, 185018]\n15          15     84907   6495  [185019, 191513]\n16          16     85101   6618  [191514, 198131]\n17          17     85153  14353  [198132, 212484]\n18          18     85265  13516  [212485, 226000]\n19          19     85267  13082  [226001, 239082]\n20          20     85619   9997  [239083, 249079]\n21          21     85693  10834  [249080, 259913]\n22          22     85731   8568  [259914, 268481]\n23          23     85781   1149  [268482, 269630]\n24          24     85915   9220  [269631, 278850]\n25          25     85933   8811  [278851, 287661]\n26          26     85977   8793  [287662, 296454]\n27          27     86085   6195  [296455, 302649]\n28          28     86865   3544  [302650, 306193]\n29          29     86867   3753  [306194, 309946]\n30          30     87139   2378  [309947, 312324]",
      "text/html": "<div>\n<style scoped>\n    .dataframe tbody tr th:only-of-type {\n        vertical-align: middle;\n    }\n\n    .dataframe tbody tr th {\n        vertical-align: top;\n    }\n\n    .dataframe thead th {\n        text-align: right;\n    }\n</style>\n<table border=\"1\" class=\"dataframe\">\n  <thead>\n    <tr style=\"text-align: right;\">\n      <th></th>\n      <th>Unnamed: 0</th>\n      <th>QUEUE_ID</th>\n      <th>count</th>\n      <th>range</th>\n    </tr>\n  </thead>\n  <tbody>\n    <tr>\n      <th>0</th>\n      <td>0</td>\n      <td>2</td>\n      <td>19255</td>\n      <td>[0, 19254]</td>\n    </tr>\n    <tr>\n      <th>1</th>\n      <td>1</td>\n      <td>3</td>\n      <td>19257</td>\n      <td>[19255, 38511]</td>\n    </tr>\n    <tr>\n      <th>2</th>\n      <td>2</td>\n      <td>4</td>\n      <td>19257</td>\n      <td>[38512, 57768]</td>\n    </tr>\n    <tr>\n      <th>3</th>\n      <td>3</td>\n      <td>27</td>\n      <td>10526</td>\n      <td>[57769, 68294]</td>\n    </tr>\n    <tr>\n      <th>4</th>\n      <td>4</td>\n      <td>36</td>\n      <td>3242</td>\n      <td>[68295, 71536]</td>\n    </tr>\n    <tr>\n      <th>5</th>\n      <td>5</td>\n      <td>233</td>\n      <td>2099</td>\n      <td>[71537, 73635]</td>\n    </tr>\n    <tr>\n      <th>6</th>\n      <td>6</td>\n      <td>287</td>\n      <td>6876</td>\n      <td>[73636, 80511]</td>\n    </tr>\n    <tr>\n      <th>7</th>\n      <td>7</td>\n      <td>291</td>\n      <td>8884</td>\n      <td>[80512, 89395]</td>\n    </tr>\n    <tr>\n      <th>8</th>\n      <td>8</td>\n      <td>293</td>\n      <td>8855</td>\n      <td>[89396, 98250]</td>\n    </tr>\n    <tr>\n      <th>9</th>\n      <td>9</td>\n      <td>21825</td>\n      <td>19723</td>\n      <td>[98251, 117973]</td>\n    </tr>\n    <tr>\n      <th>10</th>\n      <td>10</td>\n      <td>82695</td>\n      <td>19726</td>\n      <td>[117974, 137699]</td>\n    </tr>\n    <tr>\n      <th>11</th>\n      <td>11</td>\n      <td>82697</td>\n      <td>10642</td>\n      <td>[137700, 148341]</td>\n    </tr>\n    <tr>\n      <th>12</th>\n      <td>12</td>\n      <td>82929</td>\n      <td>10199</td>\n      <td>[148342, 158540]</td>\n    </tr>\n    <tr>\n      <th>13</th>\n      <td>13</td>\n      <td>83109</td>\n      <td>8958</td>\n      <td>[158541, 167498]</td>\n    </tr>\n    <tr>\n      <th>14</th>\n      <td>14</td>\n      <td>84387</td>\n      <td>17520</td>\n      <td>[167499, 185018]</td>\n    </tr>\n    <tr>\n      <th>15</th>\n      <td>15</td>\n      <td>84907</td>\n      <td>6495</td>\n      <td>[185019, 191513]</td>\n    </tr>\n    <tr>\n      <th>16</th>\n      <td>16</td>\n      <td>85101</td>\n      <td>6618</td>\n      <td>[191514, 198131]</td>\n    </tr>\n    <tr>\n      <th>17</th>\n      <td>17</td>\n      <td>85153</td>\n      <td>14353</td>\n      <td>[198132, 212484]</td>\n    </tr>\n    <tr>\n      <th>18</th>\n      <td>18</td>\n      <td>85265</td>\n      <td>13516</td>\n      <td>[212485, 226000]</td>\n    </tr>\n    <tr>\n      <th>19</th>\n      <td>19</td>\n      <td>85267</td>\n      <td>13082</td>\n      <td>[226001, 239082]</td>\n    </tr>\n    <tr>\n      <th>20</th>\n      <td>20</td>\n      <td>85619</td>\n      <td>9997</td>\n      <td>[239083, 249079]</td>\n    </tr>\n    <tr>\n      <th>21</th>\n      <td>21</td>\n      <td>85693</td>\n      <td>10834</td>\n      <td>[249080, 259913]</td>\n    </tr>\n    <tr>\n      <th>22</th>\n      <td>22</td>\n      <td>85731</td>\n      <td>8568</td>\n      <td>[259914, 268481]</td>\n    </tr>\n    <tr>\n      <th>23</th>\n      <td>23</td>\n      <td>85781</td>\n      <td>1149</td>\n      <td>[268482, 269630]</td>\n    </tr>\n    <tr>\n      <th>24</th>\n      <td>24</td>\n      <td>85915</td>\n      <td>9220</td>\n      <td>[269631, 278850]</td>\n    </tr>\n    <tr>\n      <th>25</th>\n      <td>25</td>\n      <td>85933</td>\n      <td>8811</td>\n      <td>[278851, 287661]</td>\n    </tr>\n    <tr>\n      <th>26</th>\n      <td>26</td>\n      <td>85977</td>\n      <td>8793</td>\n      <td>[287662, 296454]</td>\n    </tr>\n    <tr>\n      <th>27</th>\n      <td>27</td>\n      <td>86085</td>\n      <td>6195</td>\n      <td>[296455, 302649]</td>\n    </tr>\n    <tr>\n      <th>28</th>\n      <td>28</td>\n      <td>86865</td>\n      <td>3544</td>\n      <td>[302650, 306193]</td>\n    </tr>\n    <tr>\n      <th>29</th>\n      <td>29</td>\n      <td>86867</td>\n      <td>3753</td>\n      <td>[306194, 309946]</td>\n    </tr>\n    <tr>\n      <th>30</th>\n      <td>30</td>\n      <td>87139</td>\n      <td>2378</td>\n      <td>[309947, 312324]</td>\n    </tr>\n  </tbody>\n</table>\n</div>"
     },
     "metadata": {},
     "output_type": "display_data"
    },
    {
     "name": "stdout",
     "output_type": "stream",
     "text": [
      "[0, 19254]\n"
     ]
    }
   ],
   "source": [
    "queue_ids_df = pd.read_csv('./datasets/serverless/q_ids.csv')\n",
    "display(queue_ids_df)\n",
    "print(queue_ids_df['range'][0])"
   ],
   "metadata": {
    "collapsed": false,
    "ExecuteTime": {
     "end_time": "2024-01-01T12:00:18.327807700Z",
     "start_time": "2024-01-01T12:00:18.299745600Z"
    }
   },
   "id": "63152b6df696bbeb"
  },
  {
   "cell_type": "code",
   "execution_count": 76,
   "outputs": [
    {
     "name": "stderr",
     "output_type": "stream",
     "text": [
      "100%|██████████| 8/8 [00:00<00:00, 53.90it/s]\n"
     ]
    }
   ],
   "source": [
    "# 根据EDA分析，我选了几个感觉可以训练的QUEUE\n",
    "queues = [2, 3, 4, 27, 36, 291, 85153, 85693]\n",
    "for queue_id in tqdm(queues):\n",
    "    queue_df = train_df[train_df.QUEUE_ID == queue_id]\n",
    "    # 删除原有的index列，换成时间列\n",
    "    # queue_df.set_index('DOTTING_TIME', inplace=True)\n",
    "    # 将处理好的数据导出到本地\n",
    "    queue_df.to_csv('./datasets/serverless/cached/queue_id_%d.csv' % queue_id, encoding=\"utf-8\", index=True,\n",
    "                    index_label=\"timestamp\")"
   ],
   "metadata": {
    "collapsed": false,
    "ExecuteTime": {
     "end_time": "2023-12-25T11:28:17.407969900Z",
     "start_time": "2023-12-25T11:28:17.241395900Z"
    }
   },
   "id": "9fd060c648845593"
  },
  {
   "cell_type": "code",
   "execution_count": 10,
   "outputs": [
    {
     "name": "stderr",
     "output_type": "stream",
     "text": [
      "100%|██████████| 31/31 [00:00<00:00, 896.95it/s]\n"
     ]
    }
   ],
   "source": [
    "for queue_id in tqdm(q_ids):\n",
    "    queue_df = train_df[train_df.QUEUE_ID == queue_id]\n",
    "    queue_df.to_csv('./datasets/serverless/cached/queue_id_%d.csv' % queue_id, encoding=\"utf-8\", index=True,\n",
    "                    index_label=\"timestamp\")"
   ],
   "metadata": {
    "collapsed": false,
    "ExecuteTime": {
     "end_time": "2023-12-27T05:38:11.163832100Z",
     "start_time": "2023-12-27T05:38:11.092713400Z"
    }
   },
   "id": "6d33d1f42d643edc"
  },
  {
   "cell_type": "code",
   "execution_count": null,
   "outputs": [],
   "source": [],
   "metadata": {
    "collapsed": false
   },
   "id": "85eef2cb9e22ef24"
  }
 ],
 "metadata": {
  "kernelspec": {
   "display_name": "Python 3",
   "language": "python",
   "name": "python3"
  },
  "language_info": {
   "codemirror_mode": {
    "name": "ipython",
    "version": 2
   },
   "file_extension": ".py",
   "mimetype": "text/x-python",
   "name": "python",
   "nbconvert_exporter": "python",
   "pygments_lexer": "ipython2",
   "version": "2.7.6"
  }
 },
 "nbformat": 4,
 "nbformat_minor": 5
}
