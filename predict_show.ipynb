{
 "cells": [
  {
   "cell_type": "code",
   "execution_count": 1,
   "id": "initial_id",
   "metadata": {
    "collapsed": true,
    "ExecuteTime": {
     "end_time": "2024-02-26T02:14:58.757274800Z",
     "start_time": "2024-02-26T02:14:57.813015300Z"
    }
   },
   "outputs": [],
   "source": [
    "import os\n",
    "import warnings\n",
    "\n",
    "import pandas as pd\n",
    "from sklearn.preprocessing import LabelEncoder\n",
    "from tqdm import tqdm"
   ]
  },
  {
   "cell_type": "code",
   "execution_count": 2,
   "outputs": [],
   "source": [
    "# 预设值\n",
    "os.environ['KMP_DUPLICATE_LIB_OK'] = 'TRUE'\n",
    "\n",
    "warnings.simplefilter('ignore')\n",
    "warnings.filterwarnings('ignore')\n",
    "\n",
    "pd.options.display.max_columns = None  # 展示所有列"
   ],
   "metadata": {
    "collapsed": false,
    "ExecuteTime": {
     "end_time": "2024-02-26T02:14:58.765426300Z",
     "start_time": "2024-02-26T02:14:58.757274800Z"
    }
   },
   "id": "39fb6e39760368ff"
  },
  {
   "cell_type": "code",
   "execution_count": 3,
   "outputs": [
    {
     "name": "stdout",
     "output_type": "stream",
     "text": [
      "              API_ID    time_period            day           hour  \\\n",
      "count  299520.000000  299520.000000  299520.000000  299520.000000   \n",
      "mean       94.600000    9132.423077      31.211538      11.500000   \n",
      "std        46.671697    5408.237544      18.776384       6.922198   \n",
      "min        27.000000       0.000000       0.000000       0.000000   \n",
      "25%        63.750000    3743.750000      12.750000       5.750000   \n",
      "50%        90.500000   10079.500000      34.500000      11.500000   \n",
      "75%       147.750000   13823.250000      47.250000      17.250000   \n",
      "max       165.000000   17567.000000      60.000000      23.000000   \n",
      "\n",
      "              minute          time  requests_minute  memory_usage_minute  \\\n",
      "count  299520.000000  2.995200e+05     2.995200e+05        299520.000000   \n",
      "mean       31.500000  2.739967e+06     1.108282e+05             0.205279   \n",
      "std        17.260291  1.622471e+06     1.994497e+05             0.164046   \n",
      "min         4.000000  2.400000e+02     0.000000e+00             0.000000   \n",
      "25%        17.750000  1.123365e+06     1.122505e+04             0.090800   \n",
      "50%        31.500000  3.024090e+06     2.413840e+04             0.189200   \n",
      "75%        45.250000  4.147215e+06     1.154961e+05             0.245000   \n",
      "max        59.000000  5.270340e+06     1.350854e+06             0.773200   \n",
      "\n",
      "       cpu_usage_minute  instances_minute  memory_limit_minute  \\\n",
      "count     299520.000000     299520.000000        299520.000000   \n",
      "mean           0.139801          8.882216          3608.045121   \n",
      "std            0.124920         12.280856          2322.625518   \n",
      "min            0.000000          0.000000             0.000000   \n",
      "25%            0.028600          2.000000          1900.000000   \n",
      "50%            0.087400          4.000000          3900.000000   \n",
      "75%            0.250800         11.000000          3900.000000   \n",
      "max            0.593400         80.000000          7900.000000   \n",
      "\n",
      "       cpu_limit_minute  total_cpu_usage  min_total_cpu_usage  \\\n",
      "count     299520.000000    299520.000000        299520.000000   \n",
      "mean           1.822074         1.383643             1.222651   \n",
      "std            1.062896         2.465496             2.250736   \n",
      "min            0.000000         0.000000             0.000000   \n",
      "25%            0.950000         0.057400             0.043000   \n",
      "50%            1.950000         0.492000             0.400000   \n",
      "75%            1.950000         1.594800             1.392000   \n",
      "max            3.950000        20.752200            18.920000   \n",
      "\n",
      "       max_total_cpu_usage  total_memory_usage  min_total_memory_usage  \\\n",
      "count        299520.000000       299520.000000           299520.000000   \n",
      "mean              1.558788            2.330814                2.286052   \n",
      "std               2.706364            4.643807                4.632128   \n",
      "min               0.000000            0.000000                0.000000   \n",
      "25%               0.072000            0.200800                0.190000   \n",
      "50%               0.582000            0.639000                0.574000   \n",
      "75%               1.862000            2.450250                2.376000   \n",
      "max              25.944000           30.928000               30.920000   \n",
      "\n",
      "       max_total_memory_usage  absolute_cpu_usage  absolute_memory_usage  \n",
      "count           299520.000000       299520.000000          299520.000000  \n",
      "mean                 2.375419            0.191157             883.116141  \n",
      "std                  4.663524            0.195594            1384.840599  \n",
      "min                  0.000000            0.000000               0.000000  \n",
      "25%                  0.207000            0.062200             107.840000  \n",
      "50%                  0.681000            0.131000             409.500000  \n",
      "75%                  2.520000            0.235600             866.580000  \n",
      "max                 31.000000            2.126000            6108.280000  \n"
     ]
    }
   ],
   "source": [
    "import numpy as np\n",
    "\n",
    "# 初始数据\n",
    "data_path = './datasets/huawei/data.csv'\n",
    "# 读取.npy文件\n",
    "arr = np.load('./predict_results/huawei/huawei_dsformer_ts144_fs18_os18_pl144_epoch100_lr0.001_bs256_hs128_el2_decmlp_nh2_dp0.1_ffn1024_convTrue_factor1_activationgelu_mavg25_revinTrue_lossMSE/28_pred.npy')\n"
   ],
   "metadata": {
    "collapsed": false,
    "ExecuteTime": {
     "end_time": "2024-02-26T02:15:00.549058100Z",
     "start_time": "2024-02-26T02:15:00.017412100Z"
    }
   },
   "id": "8a034554ba6a38b8"
  },
  {
   "cell_type": "code",
   "execution_count": null,
   "outputs": [],
   "source": [],
   "metadata": {
    "collapsed": false
   },
   "id": "6be5b3cfa48e71c7"
  }
 ],
 "metadata": {
  "kernelspec": {
   "display_name": "Python 3",
   "language": "python",
   "name": "python3"
  },
  "language_info": {
   "codemirror_mode": {
    "name": "ipython",
    "version": 2
   },
   "file_extension": ".py",
   "mimetype": "text/x-python",
   "name": "python",
   "nbconvert_exporter": "python",
   "pygments_lexer": "ipython2",
   "version": "2.7.6"
  }
 },
 "nbformat": 4,
 "nbformat_minor": 5
}
