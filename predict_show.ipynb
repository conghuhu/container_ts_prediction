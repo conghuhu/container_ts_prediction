{
 "cells": [
  {
   "cell_type": "code",
   "execution_count": 4,
   "id": "initial_id",
   "metadata": {
    "collapsed": true,
    "ExecuteTime": {
     "end_time": "2024-02-26T02:40:14.587335800Z",
     "start_time": "2024-02-26T02:40:14.560154Z"
    }
   },
   "outputs": [],
   "source": [
    "import os\n",
    "import warnings\n",
    "\n",
    "import numpy as np\n",
    "import pandas as pd"
   ]
  },
  {
   "cell_type": "code",
   "execution_count": 5,
   "outputs": [],
   "source": [
    "# 预设值\n",
    "os.environ['KMP_DUPLICATE_LIB_OK'] = 'TRUE'\n",
    "\n",
    "warnings.simplefilter('ignore')\n",
    "warnings.filterwarnings('ignore')\n",
    "\n",
    "pd.options.display.max_columns = None  # 展示所有列"
   ],
   "metadata": {
    "collapsed": false,
    "ExecuteTime": {
     "end_time": "2024-02-26T02:40:15.151563100Z",
     "start_time": "2024-02-26T02:40:15.133097Z"
    }
   },
   "id": "39fb6e39760368ff"
  },
  {
   "cell_type": "code",
   "execution_count": 6,
   "outputs": [
    {
     "name": "stdout",
     "output_type": "stream",
     "text": [
      "id: 72\n",
      "id: 150\n",
      "id: 28\n",
      "id: 165\n"
     ]
    }
   ],
   "source": [
    "target = [72, 150, 28, 165]\n",
    "\n",
    "for id in target:\n",
    "    print('id: {}'.format(id))\n",
    "    dsformer_true = np.load(\n",
    "        './predict_results/huawei/dsformer/{}_true.npy'.format(id))\n",
    "    dsformer_pred = np.load(\n",
    "        './predict_results/huawei/dsformer/{}_pred.npy'.format(id))\n",
    "    \n",
    "    \n",
    "\n",
    "# 读取.npy文件\n"
   ],
   "metadata": {
    "collapsed": false,
    "ExecuteTime": {
     "end_time": "2024-02-26T02:41:22.790645200Z",
     "start_time": "2024-02-26T02:41:22.778629Z"
    }
   },
   "id": "8a034554ba6a38b8"
  },
  {
   "cell_type": "code",
   "execution_count": null,
   "outputs": [],
   "source": [],
   "metadata": {
    "collapsed": false
   },
   "id": "6be5b3cfa48e71c7"
  }
 ],
 "metadata": {
  "kernelspec": {
   "display_name": "Python 3",
   "language": "python",
   "name": "python3"
  },
  "language_info": {
   "codemirror_mode": {
    "name": "ipython",
    "version": 2
   },
   "file_extension": ".py",
   "mimetype": "text/x-python",
   "name": "python",
   "nbconvert_exporter": "python",
   "pygments_lexer": "ipython2",
   "version": "2.7.6"
  }
 },
 "nbformat": 4,
 "nbformat_minor": 5
}
